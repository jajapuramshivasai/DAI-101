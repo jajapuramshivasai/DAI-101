{
  "nbformat": 4,
  "nbformat_minor": 0,
  "metadata": {
    "colab": {
      "provenance": [],
      "authorship_tag": "ABX9TyMIPl/3HlDByX1wvNIRZFDa",
      "include_colab_link": true
    },
    "kernelspec": {
      "name": "python3",
      "display_name": "Python 3"
    },
    "language_info": {
      "name": "python"
    }
  },
  "cells": [
    {
      "cell_type": "markdown",
      "metadata": {
        "id": "view-in-github",
        "colab_type": "text"
      },
      "source": [
        "<a href=\"https://colab.research.google.com/github/jajapuramshivasai/DAI-101/blob/main/DAI_project.ipynb\" target=\"_parent\"><img src=\"https://colab.research.google.com/assets/colab-badge.svg\" alt=\"Open In Colab\"/></a>"
      ]
    },
    {
      "cell_type": "markdown",
      "source": [
        "# loading the required data"
      ],
      "metadata": {
        "id": "x9o0KJZtVcHk"
      }
    },
    {
      "cell_type": "code",
      "execution_count": null,
      "metadata": {
        "colab": {
          "base_uri": "https://localhost:8080/"
        },
        "id": "N_OBkdBaVYPN",
        "outputId": "51c353b7-1398-4f0b-df18-8a242fdf7ce3"
      },
      "outputs": [
        {
          "output_type": "stream",
          "name": "stderr",
          "text": [
            "Downloading...\n",
            "From (original): https://drive.google.com/uc?id=1JcnnohjnfIsn_WuC5-Pn6ue3xGt6Utgu\n",
            "From (redirected): https://drive.google.com/uc?id=1JcnnohjnfIsn_WuC5-Pn6ue3xGt6Utgu&confirm=t&uuid=0c91e597-200f-4178-967d-1b8bdc8ea187\n",
            "To: /content/project_data/input_video.mp4\n",
            "100%|██████████| 346M/346M [00:14<00:00, 24.7MB/s]"
          ]
        },
        {
          "output_type": "stream",
          "name": "stdout",
          "text": [
            "Video downloaded to project_data/input_video.mp4\n"
          ]
        },
        {
          "output_type": "stream",
          "name": "stderr",
          "text": [
            "\n"
          ]
        }
      ],
      "source": [
        "import gdown\n",
        "import os\n",
        "\n",
        "# Create directory for storing data\n",
        "os.makedirs(\"project_data\", exist_ok=True)\n",
        "\n",
        "# Download the video file from Google Drive\n",
        "video_url = \"https://drive.google.com/file/d/1JcnnohjnfIsn_WuC5-Pn6ue3xGt6Utgu/view\"\n",
        "output_path = \"project_data/input_video.mp4\"\n",
        "\n",
        "# Extract file ID from the URL\n",
        "file_id = video_url.split(\"/\")[-2]\n",
        "download_url = f\"https://drive.google.com/uc?id={file_id}\"\n",
        "\n",
        "# Download the file\n",
        "gdown.download(download_url, output_path, quiet=False)\n",
        "print(f\"Video downloaded to {output_path}\")\n"
      ]
    },
    {
      "cell_type": "markdown",
      "source": [
        "# Data Processing\n",
        "##converting video to frames"
      ],
      "metadata": {
        "id": "HFFcHUNFVnOt"
      }
    },
    {
      "cell_type": "code",
      "source": [
        "import cv2\n",
        "import os\n",
        "\n",
        "def video_to_frames(video_path, output_folder, fps_rate=2):\n",
        "    \"\"\"\n",
        "    Extracts frames from a video file and saves them as individual images.\n",
        "\n",
        "    Args:\n",
        "        video_path: Path to the input video file\n",
        "        output_folder: Directory where extracted frames will be saved\n",
        "        fps_rate: Number of frames to extract per second (default: 2)\n",
        "    \"\"\"\n",
        "    # Create output directory if it doesn't exist\n",
        "    os.makedirs(output_folder, exist_ok=True)\n",
        "\n",
        "    # Load the video\n",
        "    cap = cv2.VideoCapture(video_path)\n",
        "\n",
        "    # Check if video was opened successfully\n",
        "    if not cap.isOpened():\n",
        "        print(f\"Error: Could not open video file {video_path}\")\n",
        "        return\n",
        "\n",
        "    # Get video properties\n",
        "    fps = cap.get(cv2.CAP_PROP_FPS)\n",
        "    frame_count = int(cap.get(cv2.CAP_PROP_FRAME_COUNT))\n",
        "    duration = frame_count / fps if fps > 0 else 0\n",
        "\n",
        "    print(f\"Video Information:\")\n",
        "    print(f\"- FPS: {fps}\")\n",
        "    print(f\"- Total frames: {frame_count}\")\n",
        "    print(f\"- Duration: {duration:.2f} seconds\")\n",
        "\n",
        "    # Calculate frame extraction rate\n",
        "    frame_interval = int(fps / fps_rate)\n",
        "\n",
        "    # Initialize frame counter\n",
        "    count = 0\n",
        "    frame_id = 0\n",
        "\n",
        "    # Read until video is completed\n",
        "    while True:\n",
        "        # Capture frame-by-frame\n",
        "        ret, frame = cap.read()\n",
        "\n",
        "        # Break the loop if the video has ended\n",
        "        if not ret:\n",
        "            break\n",
        "\n",
        "        # Extract frame at the specified interval\n",
        "        if count % frame_interval == 0:\n",
        "            # Save frame as an image file\n",
        "            frame_filename = os.path.join(output_folder, f\"frame_{frame_id:06d}.jpg\")\n",
        "            cv2.imwrite(frame_filename, frame)\n",
        "            frame_id += 1\n",
        "\n",
        "        # Update counter\n",
        "        count += 1\n",
        "\n",
        "        # Display progress every 100 frames\n",
        "        if count % 100 == 0:\n",
        "            print(f\"Processed {count}/{frame_count} frames ({count/frame_count*100:.2f}%)\")\n",
        "\n",
        "    # Release the video capture object\n",
        "    cap.release()\n",
        "\n",
        "    print(f\"Extraction complete! {frame_id} frames saved to {output_folder}\")\n",
        "\n",
        "# Extract frames from the downloaded video\n",
        "video_path = \"project_data/input_video.mp4\"\n",
        "frames_output_dir = \"project_data/frames\"\n",
        "video_to_frames(video_path, frames_output_dir)\n"
      ],
      "metadata": {
        "colab": {
          "base_uri": "https://localhost:8080/"
        },
        "id": "VOkEWqZgVkdY",
        "outputId": "ac1c30d7-208a-4aa6-c47b-653d2e653e0c"
      },
      "execution_count": null,
      "outputs": [
        {
          "output_type": "stream",
          "name": "stdout",
          "text": [
            "Video Information:\n",
            "- FPS: 20.0\n",
            "- Total frames: 1723\n",
            "- Duration: 86.15 seconds\n",
            "Processed 100/1723 frames (5.80%)\n",
            "Processed 200/1723 frames (11.61%)\n",
            "Processed 300/1723 frames (17.41%)\n",
            "Processed 400/1723 frames (23.22%)\n",
            "Processed 500/1723 frames (29.02%)\n",
            "Processed 600/1723 frames (34.82%)\n",
            "Processed 700/1723 frames (40.63%)\n",
            "Processed 800/1723 frames (46.43%)\n",
            "Processed 900/1723 frames (52.23%)\n",
            "Processed 1000/1723 frames (58.04%)\n",
            "Processed 1100/1723 frames (63.84%)\n",
            "Processed 1200/1723 frames (69.65%)\n",
            "Processed 1300/1723 frames (75.45%)\n",
            "Processed 1400/1723 frames (81.25%)\n",
            "Processed 1500/1723 frames (87.06%)\n",
            "Processed 1600/1723 frames (92.86%)\n",
            "Processed 1700/1723 frames (98.67%)\n",
            "Extraction complete! 173 frames saved to project_data/frames\n"
          ]
        }
      ]
    },
    {
      "cell_type": "markdown",
      "source": [
        "# Model Training"
      ],
      "metadata": {
        "id": "1qSQrO02WCZM"
      }
    },
    {
      "cell_type": "code",
      "source": [
        "!pip install ultralytics"
      ],
      "metadata": {
        "colab": {
          "base_uri": "https://localhost:8080/"
        },
        "collapsed": true,
        "id": "0ABDa-KYWBe4",
        "outputId": "06af3ec6-8792-43b9-9793-72070f5798b2"
      },
      "execution_count": null,
      "outputs": [
        {
          "output_type": "stream",
          "name": "stdout",
          "text": [
            "Collecting ultralytics\n",
            "  Downloading ultralytics-8.3.100-py3-none-any.whl.metadata (37 kB)\n",
            "Requirement already satisfied: numpy<=2.1.1,>=1.23.0 in /usr/local/lib/python3.11/dist-packages (from ultralytics) (2.0.2)\n",
            "Requirement already satisfied: matplotlib>=3.3.0 in /usr/local/lib/python3.11/dist-packages (from ultralytics) (3.10.0)\n",
            "Requirement already satisfied: opencv-python>=4.6.0 in /usr/local/lib/python3.11/dist-packages (from ultralytics) (4.11.0.86)\n",
            "Requirement already satisfied: pillow>=7.1.2 in /usr/local/lib/python3.11/dist-packages (from ultralytics) (11.1.0)\n",
            "Requirement already satisfied: pyyaml>=5.3.1 in /usr/local/lib/python3.11/dist-packages (from ultralytics) (6.0.2)\n",
            "Requirement already satisfied: requests>=2.23.0 in /usr/local/lib/python3.11/dist-packages (from ultralytics) (2.32.3)\n",
            "Requirement already satisfied: scipy>=1.4.1 in /usr/local/lib/python3.11/dist-packages (from ultralytics) (1.14.1)\n",
            "Requirement already satisfied: torch>=1.8.0 in /usr/local/lib/python3.11/dist-packages (from ultralytics) (2.6.0+cu124)\n",
            "Requirement already satisfied: torchvision>=0.9.0 in /usr/local/lib/python3.11/dist-packages (from ultralytics) (0.21.0+cu124)\n",
            "Requirement already satisfied: tqdm>=4.64.0 in /usr/local/lib/python3.11/dist-packages (from ultralytics) (4.67.1)\n",
            "Requirement already satisfied: psutil in /usr/local/lib/python3.11/dist-packages (from ultralytics) (5.9.5)\n",
            "Requirement already satisfied: py-cpuinfo in /usr/local/lib/python3.11/dist-packages (from ultralytics) (9.0.0)\n",
            "Requirement already satisfied: pandas>=1.1.4 in /usr/local/lib/python3.11/dist-packages (from ultralytics) (2.2.2)\n",
            "Requirement already satisfied: seaborn>=0.11.0 in /usr/local/lib/python3.11/dist-packages (from ultralytics) (0.13.2)\n",
            "Collecting ultralytics-thop>=2.0.0 (from ultralytics)\n",
            "  Downloading ultralytics_thop-2.0.14-py3-none-any.whl.metadata (9.4 kB)\n",
            "Requirement already satisfied: contourpy>=1.0.1 in /usr/local/lib/python3.11/dist-packages (from matplotlib>=3.3.0->ultralytics) (1.3.1)\n",
            "Requirement already satisfied: cycler>=0.10 in /usr/local/lib/python3.11/dist-packages (from matplotlib>=3.3.0->ultralytics) (0.12.1)\n",
            "Requirement already satisfied: fonttools>=4.22.0 in /usr/local/lib/python3.11/dist-packages (from matplotlib>=3.3.0->ultralytics) (4.56.0)\n",
            "Requirement already satisfied: kiwisolver>=1.3.1 in /usr/local/lib/python3.11/dist-packages (from matplotlib>=3.3.0->ultralytics) (1.4.8)\n",
            "Requirement already satisfied: packaging>=20.0 in /usr/local/lib/python3.11/dist-packages (from matplotlib>=3.3.0->ultralytics) (24.2)\n",
            "Requirement already satisfied: pyparsing>=2.3.1 in /usr/local/lib/python3.11/dist-packages (from matplotlib>=3.3.0->ultralytics) (3.2.3)\n",
            "Requirement already satisfied: python-dateutil>=2.7 in /usr/local/lib/python3.11/dist-packages (from matplotlib>=3.3.0->ultralytics) (2.8.2)\n",
            "Requirement already satisfied: pytz>=2020.1 in /usr/local/lib/python3.11/dist-packages (from pandas>=1.1.4->ultralytics) (2025.2)\n",
            "Requirement already satisfied: tzdata>=2022.7 in /usr/local/lib/python3.11/dist-packages (from pandas>=1.1.4->ultralytics) (2025.2)\n",
            "Requirement already satisfied: charset-normalizer<4,>=2 in /usr/local/lib/python3.11/dist-packages (from requests>=2.23.0->ultralytics) (3.4.1)\n",
            "Requirement already satisfied: idna<4,>=2.5 in /usr/local/lib/python3.11/dist-packages (from requests>=2.23.0->ultralytics) (3.10)\n",
            "Requirement already satisfied: urllib3<3,>=1.21.1 in /usr/local/lib/python3.11/dist-packages (from requests>=2.23.0->ultralytics) (2.3.0)\n",
            "Requirement already satisfied: certifi>=2017.4.17 in /usr/local/lib/python3.11/dist-packages (from requests>=2.23.0->ultralytics) (2025.1.31)\n",
            "Requirement already satisfied: filelock in /usr/local/lib/python3.11/dist-packages (from torch>=1.8.0->ultralytics) (3.18.0)\n",
            "Requirement already satisfied: typing-extensions>=4.10.0 in /usr/local/lib/python3.11/dist-packages (from torch>=1.8.0->ultralytics) (4.13.0)\n",
            "Requirement already satisfied: networkx in /usr/local/lib/python3.11/dist-packages (from torch>=1.8.0->ultralytics) (3.4.2)\n",
            "Requirement already satisfied: jinja2 in /usr/local/lib/python3.11/dist-packages (from torch>=1.8.0->ultralytics) (3.1.6)\n",
            "Requirement already satisfied: fsspec in /usr/local/lib/python3.11/dist-packages (from torch>=1.8.0->ultralytics) (2025.3.0)\n",
            "Collecting nvidia-cuda-nvrtc-cu12==12.4.127 (from torch>=1.8.0->ultralytics)\n",
            "  Downloading nvidia_cuda_nvrtc_cu12-12.4.127-py3-none-manylinux2014_x86_64.whl.metadata (1.5 kB)\n",
            "Collecting nvidia-cuda-runtime-cu12==12.4.127 (from torch>=1.8.0->ultralytics)\n",
            "  Downloading nvidia_cuda_runtime_cu12-12.4.127-py3-none-manylinux2014_x86_64.whl.metadata (1.5 kB)\n",
            "Collecting nvidia-cuda-cupti-cu12==12.4.127 (from torch>=1.8.0->ultralytics)\n",
            "  Downloading nvidia_cuda_cupti_cu12-12.4.127-py3-none-manylinux2014_x86_64.whl.metadata (1.6 kB)\n",
            "Collecting nvidia-cudnn-cu12==9.1.0.70 (from torch>=1.8.0->ultralytics)\n",
            "  Downloading nvidia_cudnn_cu12-9.1.0.70-py3-none-manylinux2014_x86_64.whl.metadata (1.6 kB)\n",
            "Collecting nvidia-cublas-cu12==12.4.5.8 (from torch>=1.8.0->ultralytics)\n",
            "  Downloading nvidia_cublas_cu12-12.4.5.8-py3-none-manylinux2014_x86_64.whl.metadata (1.5 kB)\n",
            "Collecting nvidia-cufft-cu12==11.2.1.3 (from torch>=1.8.0->ultralytics)\n",
            "  Downloading nvidia_cufft_cu12-11.2.1.3-py3-none-manylinux2014_x86_64.whl.metadata (1.5 kB)\n",
            "Collecting nvidia-curand-cu12==10.3.5.147 (from torch>=1.8.0->ultralytics)\n",
            "  Downloading nvidia_curand_cu12-10.3.5.147-py3-none-manylinux2014_x86_64.whl.metadata (1.5 kB)\n",
            "Collecting nvidia-cusolver-cu12==11.6.1.9 (from torch>=1.8.0->ultralytics)\n",
            "  Downloading nvidia_cusolver_cu12-11.6.1.9-py3-none-manylinux2014_x86_64.whl.metadata (1.6 kB)\n",
            "Collecting nvidia-cusparse-cu12==12.3.1.170 (from torch>=1.8.0->ultralytics)\n",
            "  Downloading nvidia_cusparse_cu12-12.3.1.170-py3-none-manylinux2014_x86_64.whl.metadata (1.6 kB)\n",
            "Requirement already satisfied: nvidia-cusparselt-cu12==0.6.2 in /usr/local/lib/python3.11/dist-packages (from torch>=1.8.0->ultralytics) (0.6.2)\n",
            "Requirement already satisfied: nvidia-nccl-cu12==2.21.5 in /usr/local/lib/python3.11/dist-packages (from torch>=1.8.0->ultralytics) (2.21.5)\n",
            "Requirement already satisfied: nvidia-nvtx-cu12==12.4.127 in /usr/local/lib/python3.11/dist-packages (from torch>=1.8.0->ultralytics) (12.4.127)\n",
            "Collecting nvidia-nvjitlink-cu12==12.4.127 (from torch>=1.8.0->ultralytics)\n",
            "  Downloading nvidia_nvjitlink_cu12-12.4.127-py3-none-manylinux2014_x86_64.whl.metadata (1.5 kB)\n",
            "Requirement already satisfied: triton==3.2.0 in /usr/local/lib/python3.11/dist-packages (from torch>=1.8.0->ultralytics) (3.2.0)\n",
            "Requirement already satisfied: sympy==1.13.1 in /usr/local/lib/python3.11/dist-packages (from torch>=1.8.0->ultralytics) (1.13.1)\n",
            "Requirement already satisfied: mpmath<1.4,>=1.1.0 in /usr/local/lib/python3.11/dist-packages (from sympy==1.13.1->torch>=1.8.0->ultralytics) (1.3.0)\n",
            "Requirement already satisfied: six>=1.5 in /usr/local/lib/python3.11/dist-packages (from python-dateutil>=2.7->matplotlib>=3.3.0->ultralytics) (1.17.0)\n",
            "Requirement already satisfied: MarkupSafe>=2.0 in /usr/local/lib/python3.11/dist-packages (from jinja2->torch>=1.8.0->ultralytics) (3.0.2)\n",
            "Downloading ultralytics-8.3.100-py3-none-any.whl (977 kB)\n",
            "\u001b[2K   \u001b[90m━━━━━━━━━━━━━━━━━━━━━━━━━━━━━━━━━━━━━━━━\u001b[0m \u001b[32m977.1/977.1 kB\u001b[0m \u001b[31m35.4 MB/s\u001b[0m eta \u001b[36m0:00:00\u001b[0m\n",
            "\u001b[?25hDownloading nvidia_cublas_cu12-12.4.5.8-py3-none-manylinux2014_x86_64.whl (363.4 MB)\n",
            "\u001b[2K   \u001b[90m━━━━━━━━━━━━━━━━━━━━━━━━━━━━━━━━━━━━━━━━\u001b[0m \u001b[32m363.4/363.4 MB\u001b[0m \u001b[31m4.5 MB/s\u001b[0m eta \u001b[36m0:00:00\u001b[0m\n",
            "\u001b[?25hDownloading nvidia_cuda_cupti_cu12-12.4.127-py3-none-manylinux2014_x86_64.whl (13.8 MB)\n",
            "\u001b[2K   \u001b[90m━━━━━━━━━━━━━━━━━━━━━━━━━━━━━━━━━━━━━━━━\u001b[0m \u001b[32m13.8/13.8 MB\u001b[0m \u001b[31m97.6 MB/s\u001b[0m eta \u001b[36m0:00:00\u001b[0m\n",
            "\u001b[?25hDownloading nvidia_cuda_nvrtc_cu12-12.4.127-py3-none-manylinux2014_x86_64.whl (24.6 MB)\n",
            "\u001b[2K   \u001b[90m━━━━━━━━━━━━━━━━━━━━━━━━━━━━━━━━━━━━━━━━\u001b[0m \u001b[32m24.6/24.6 MB\u001b[0m \u001b[31m76.1 MB/s\u001b[0m eta \u001b[36m0:00:00\u001b[0m\n",
            "\u001b[?25hDownloading nvidia_cuda_runtime_cu12-12.4.127-py3-none-manylinux2014_x86_64.whl (883 kB)\n",
            "\u001b[2K   \u001b[90m━━━━━━━━━━━━━━━━━━━━━━━━━━━━━━━━━━━━━━━━\u001b[0m \u001b[32m883.7/883.7 kB\u001b[0m \u001b[31m44.6 MB/s\u001b[0m eta \u001b[36m0:00:00\u001b[0m\n",
            "\u001b[?25hDownloading nvidia_cudnn_cu12-9.1.0.70-py3-none-manylinux2014_x86_64.whl (664.8 MB)\n",
            "\u001b[2K   \u001b[90m━━━━━━━━━━━━━━━━━━━━━━━━━━━━━━━━━━━━━━━━\u001b[0m \u001b[32m664.8/664.8 MB\u001b[0m \u001b[31m761.1 kB/s\u001b[0m eta \u001b[36m0:00:00\u001b[0m\n",
            "\u001b[?25hDownloading nvidia_cufft_cu12-11.2.1.3-py3-none-manylinux2014_x86_64.whl (211.5 MB)\n",
            "\u001b[2K   \u001b[90m━━━━━━━━━━━━━━━━━━━━━━━━━━━━━━━━━━━━━━━━\u001b[0m \u001b[32m211.5/211.5 MB\u001b[0m \u001b[31m6.3 MB/s\u001b[0m eta \u001b[36m0:00:00\u001b[0m\n",
            "\u001b[?25hDownloading nvidia_curand_cu12-10.3.5.147-py3-none-manylinux2014_x86_64.whl (56.3 MB)\n",
            "\u001b[2K   \u001b[90m━━━━━━━━━━━━━━━━━━━━━━━━━━━━━━━━━━━━━━━━\u001b[0m \u001b[32m56.3/56.3 MB\u001b[0m \u001b[31m10.8 MB/s\u001b[0m eta \u001b[36m0:00:00\u001b[0m\n",
            "\u001b[?25hDownloading nvidia_cusolver_cu12-11.6.1.9-py3-none-manylinux2014_x86_64.whl (127.9 MB)\n",
            "\u001b[2K   \u001b[90m━━━━━━━━━━━━━━━━━━━━━━━━━━━━━━━━━━━━━━━━\u001b[0m \u001b[32m127.9/127.9 MB\u001b[0m \u001b[31m6.8 MB/s\u001b[0m eta \u001b[36m0:00:00\u001b[0m\n",
            "\u001b[?25hDownloading nvidia_cusparse_cu12-12.3.1.170-py3-none-manylinux2014_x86_64.whl (207.5 MB)\n",
            "\u001b[2K   \u001b[90m━━━━━━━━━━━━━━━━━━━━━━━━━━━━━━━━━━━━━━━━\u001b[0m \u001b[32m207.5/207.5 MB\u001b[0m \u001b[31m4.8 MB/s\u001b[0m eta \u001b[36m0:00:00\u001b[0m\n",
            "\u001b[?25hDownloading nvidia_nvjitlink_cu12-12.4.127-py3-none-manylinux2014_x86_64.whl (21.1 MB)\n",
            "\u001b[2K   \u001b[90m━━━━━━━━━━━━━━━━━━━━━━━━━━━━━━━━━━━━━━━━\u001b[0m \u001b[32m21.1/21.1 MB\u001b[0m \u001b[31m86.6 MB/s\u001b[0m eta \u001b[36m0:00:00\u001b[0m\n",
            "\u001b[?25hDownloading ultralytics_thop-2.0.14-py3-none-any.whl (26 kB)\n",
            "Installing collected packages: nvidia-nvjitlink-cu12, nvidia-curand-cu12, nvidia-cufft-cu12, nvidia-cuda-runtime-cu12, nvidia-cuda-nvrtc-cu12, nvidia-cuda-cupti-cu12, nvidia-cublas-cu12, nvidia-cusparse-cu12, nvidia-cudnn-cu12, nvidia-cusolver-cu12, ultralytics-thop, ultralytics\n",
            "  Attempting uninstall: nvidia-nvjitlink-cu12\n",
            "    Found existing installation: nvidia-nvjitlink-cu12 12.5.82\n",
            "    Uninstalling nvidia-nvjitlink-cu12-12.5.82:\n",
            "      Successfully uninstalled nvidia-nvjitlink-cu12-12.5.82\n",
            "  Attempting uninstall: nvidia-curand-cu12\n",
            "    Found existing installation: nvidia-curand-cu12 10.3.6.82\n",
            "    Uninstalling nvidia-curand-cu12-10.3.6.82:\n",
            "      Successfully uninstalled nvidia-curand-cu12-10.3.6.82\n",
            "  Attempting uninstall: nvidia-cufft-cu12\n",
            "    Found existing installation: nvidia-cufft-cu12 11.2.3.61\n",
            "    Uninstalling nvidia-cufft-cu12-11.2.3.61:\n",
            "      Successfully uninstalled nvidia-cufft-cu12-11.2.3.61\n",
            "  Attempting uninstall: nvidia-cuda-runtime-cu12\n",
            "    Found existing installation: nvidia-cuda-runtime-cu12 12.5.82\n",
            "    Uninstalling nvidia-cuda-runtime-cu12-12.5.82:\n",
            "      Successfully uninstalled nvidia-cuda-runtime-cu12-12.5.82\n",
            "  Attempting uninstall: nvidia-cuda-nvrtc-cu12\n",
            "    Found existing installation: nvidia-cuda-nvrtc-cu12 12.5.82\n",
            "    Uninstalling nvidia-cuda-nvrtc-cu12-12.5.82:\n",
            "      Successfully uninstalled nvidia-cuda-nvrtc-cu12-12.5.82\n",
            "  Attempting uninstall: nvidia-cuda-cupti-cu12\n",
            "    Found existing installation: nvidia-cuda-cupti-cu12 12.5.82\n",
            "    Uninstalling nvidia-cuda-cupti-cu12-12.5.82:\n",
            "      Successfully uninstalled nvidia-cuda-cupti-cu12-12.5.82\n",
            "  Attempting uninstall: nvidia-cublas-cu12\n",
            "    Found existing installation: nvidia-cublas-cu12 12.5.3.2\n",
            "    Uninstalling nvidia-cublas-cu12-12.5.3.2:\n",
            "      Successfully uninstalled nvidia-cublas-cu12-12.5.3.2\n",
            "  Attempting uninstall: nvidia-cusparse-cu12\n",
            "    Found existing installation: nvidia-cusparse-cu12 12.5.1.3\n",
            "    Uninstalling nvidia-cusparse-cu12-12.5.1.3:\n",
            "      Successfully uninstalled nvidia-cusparse-cu12-12.5.1.3\n",
            "  Attempting uninstall: nvidia-cudnn-cu12\n",
            "    Found existing installation: nvidia-cudnn-cu12 9.3.0.75\n",
            "    Uninstalling nvidia-cudnn-cu12-9.3.0.75:\n",
            "      Successfully uninstalled nvidia-cudnn-cu12-9.3.0.75\n",
            "  Attempting uninstall: nvidia-cusolver-cu12\n",
            "    Found existing installation: nvidia-cusolver-cu12 11.6.3.83\n",
            "    Uninstalling nvidia-cusolver-cu12-11.6.3.83:\n",
            "      Successfully uninstalled nvidia-cusolver-cu12-11.6.3.83\n",
            "Successfully installed nvidia-cublas-cu12-12.4.5.8 nvidia-cuda-cupti-cu12-12.4.127 nvidia-cuda-nvrtc-cu12-12.4.127 nvidia-cuda-runtime-cu12-12.4.127 nvidia-cudnn-cu12-9.1.0.70 nvidia-cufft-cu12-11.2.1.3 nvidia-curand-cu12-10.3.5.147 nvidia-cusolver-cu12-11.6.1.9 nvidia-cusparse-cu12-12.3.1.170 nvidia-nvjitlink-cu12-12.4.127 ultralytics-8.3.100 ultralytics-thop-2.0.14\n"
          ]
        }
      ]
    },
    {
      "cell_type": "code",
      "source": [
        "import os\n",
        "from ultralytics import YOLO\n",
        "import cv2\n",
        "import numpy as np\n",
        "from tqdm import tqdm\n",
        "\n",
        "def apply_detection_model(frames_dir, output_dir, confidence=0.25):\n",
        "    \"\"\"\n",
        "    Apply YOLOv8 model to the extracted frames\n",
        "\n",
        "    Args:\n",
        "        frames_dir: Directory containing the extracted frames\n",
        "        output_dir: Directory to save the detection results\n",
        "        confidence: Detection confidence threshold\n",
        "    \"\"\"\n",
        "    os.makedirs(output_dir, exist_ok=True)\n",
        "\n",
        "    # Load the YOLOv8 model - using the small model for better speed\n",
        "    # For better results, you may want to use models trained on the Canadian Vehicle Dataset\n",
        "    model = YOLO(\"yolov8n.pt\")  # Use pretrained YOLOv8 model\n",
        "\n",
        "    # Get list of frame files\n",
        "    frame_files = sorted([f for f in os.listdir(frames_dir) if f.endswith(('.jpg', '.png'))])\n",
        "\n",
        "    print(f\"Applying detection model to {len(frame_files)} frames...\")\n",
        "\n",
        "    # Define color map for different classes (BGR format for OpenCV)\n",
        "    colors = {\n",
        "        'car': (0, 0, 255),        # Red\n",
        "        'truck': (255, 0, 0),      # Blue\n",
        "        'pedestrian': (0, 255, 0), # Green\n",
        "        'biker': (255, 255, 0),    # Cyan\n",
        "        'traffic light': (255, 0, 255) # Magenta\n",
        "    }\n",
        "\n",
        "    # Process each frame\n",
        "    for frame_file in tqdm(frame_files):\n",
        "        # Load the frame\n",
        "        frame_path = os.path.join(frames_dir, frame_file)\n",
        "        frame = cv2.imread(frame_path)\n",
        "\n",
        "        # Run YOLOv8 inference on the frame\n",
        "        results = model(frame, conf=confidence)\n",
        "\n",
        "        # Visualize the results on the frame\n",
        "        for result in results:\n",
        "            boxes = result.boxes.cpu().numpy()\n",
        "            for box in boxes:\n",
        "                # Get box coordinates\n",
        "                x1, y1, x2, y2 = box.xyxy[0].astype(int)\n",
        "\n",
        "                # Get class name and confidence\n",
        "                class_id = int(box.cls[0])\n",
        "                class_name = model.names[class_id]\n",
        "                conf = float(box.conf[0])\n",
        "\n",
        "                # Get color for this class\n",
        "                color = colors.get(class_name.lower(), (125, 125, 125))  # Gray if not defined\n",
        "\n",
        "                # Draw bounding box\n",
        "                cv2.rectangle(frame, (x1, y1), (x2, y2), color, 2)\n",
        "\n",
        "                # Draw class name and confidence\n",
        "                label = f\"{class_name}: {conf:.2f}\"\n",
        "                cv2.putText(frame, label, (x1, y1 - 10), cv2.FONT_HERSHEY_SIMPLEX, 0.5, color, 2)\n",
        "\n",
        "        # Save the annotated frame\n",
        "        output_path = os.path.join(output_dir, frame_file)\n",
        "        cv2.imwrite(output_path, frame)\n",
        "\n",
        "    print(f\"Detection completed! Results saved to {output_dir}\")\n",
        "\n",
        "# Apply detection model to the extracted frames\n",
        "frames_dir = \"project_data/frames\"\n",
        "detection_output_dir = \"project_data/detection_results\"\n",
        "apply_detection_model(frames_dir, detection_output_dir)\n"
      ],
      "metadata": {
        "colab": {
          "base_uri": "https://localhost:8080/"
        },
        "id": "EaISbwRBVmY2",
        "outputId": "ede65fd1-cce3-4156-d6cf-013ed1581223"
      },
      "execution_count": null,
      "outputs": [
        {
          "output_type": "stream",
          "name": "stdout",
          "text": [
            "Creating new Ultralytics Settings v0.0.6 file ✅ \n",
            "View Ultralytics Settings with 'yolo settings' or at '/root/.config/Ultralytics/settings.json'\n",
            "Update Settings with 'yolo settings key=value', i.e. 'yolo settings runs_dir=path/to/dir'. For help see https://docs.ultralytics.com/quickstart/#ultralytics-settings.\n",
            "Downloading https://github.com/ultralytics/assets/releases/download/v8.3.0/yolov8n.pt to 'yolov8n.pt'...\n"
          ]
        },
        {
          "output_type": "stream",
          "name": "stderr",
          "text": [
            "100%|██████████| 6.25M/6.25M [00:00<00:00, 167MB/s]\n"
          ]
        },
        {
          "output_type": "stream",
          "name": "stdout",
          "text": [
            "Applying detection model to 173 frames...\n"
          ]
        },
        {
          "output_type": "stream",
          "name": "stderr",
          "text": [
            "\r  0%|          | 0/173 [00:00<?, ?it/s]"
          ]
        },
        {
          "output_type": "stream",
          "name": "stdout",
          "text": [
            "\n",
            "0: 416x640 7 cars, 666.3ms\n",
            "Speed: 20.5ms preprocess, 666.3ms inference, 31.9ms postprocess per image at shape (1, 3, 416, 640)\n"
          ]
        },
        {
          "output_type": "stream",
          "name": "stderr",
          "text": [
            "\r  1%|          | 1/173 [00:06<19:02,  6.64s/it]"
          ]
        },
        {
          "output_type": "stream",
          "name": "stdout",
          "text": [
            "\n",
            "0: 416x640 7 cars, 246.4ms\n",
            "Speed: 4.7ms preprocess, 246.4ms inference, 1.6ms postprocess per image at shape (1, 3, 416, 640)\n"
          ]
        },
        {
          "output_type": "stream",
          "name": "stderr",
          "text": [
            "\r  1%|          | 2/173 [00:06<08:18,  2.91s/it]"
          ]
        },
        {
          "output_type": "stream",
          "name": "stdout",
          "text": [
            "\n",
            "0: 416x640 8 cars, 233.0ms\n",
            "Speed: 4.8ms preprocess, 233.0ms inference, 1.7ms postprocess per image at shape (1, 3, 416, 640)\n"
          ]
        },
        {
          "output_type": "stream",
          "name": "stderr",
          "text": [
            "\r  2%|▏         | 3/173 [00:07<04:51,  1.72s/it]"
          ]
        },
        {
          "output_type": "stream",
          "name": "stdout",
          "text": [
            "\n",
            "0: 416x640 10 cars, 241.4ms\n",
            "Speed: 4.9ms preprocess, 241.4ms inference, 1.7ms postprocess per image at shape (1, 3, 416, 640)\n"
          ]
        },
        {
          "output_type": "stream",
          "name": "stderr",
          "text": [
            "\r  2%|▏         | 4/173 [00:07<03:15,  1.16s/it]"
          ]
        },
        {
          "output_type": "stream",
          "name": "stdout",
          "text": [
            "\n",
            "0: 416x640 6 cars, 234.4ms\n",
            "Speed: 4.9ms preprocess, 234.4ms inference, 1.6ms postprocess per image at shape (1, 3, 416, 640)\n"
          ]
        },
        {
          "output_type": "stream",
          "name": "stderr",
          "text": [
            "\r  3%|▎         | 5/173 [00:07<02:22,  1.18it/s]"
          ]
        },
        {
          "output_type": "stream",
          "name": "stdout",
          "text": [
            "\n",
            "0: 416x640 6 cars, 249.5ms\n",
            "Speed: 4.6ms preprocess, 249.5ms inference, 1.9ms postprocess per image at shape (1, 3, 416, 640)\n"
          ]
        },
        {
          "output_type": "stream",
          "name": "stderr",
          "text": [
            "\r  3%|▎         | 6/173 [00:08<01:51,  1.50it/s]"
          ]
        },
        {
          "output_type": "stream",
          "name": "stdout",
          "text": [
            "\n",
            "0: 416x640 6 cars, 273.9ms\n",
            "Speed: 5.0ms preprocess, 273.9ms inference, 2.3ms postprocess per image at shape (1, 3, 416, 640)\n"
          ]
        },
        {
          "output_type": "stream",
          "name": "stderr",
          "text": [
            "\r  4%|▍         | 7/173 [00:08<01:32,  1.79it/s]"
          ]
        },
        {
          "output_type": "stream",
          "name": "stdout",
          "text": [
            "\n",
            "0: 416x640 1 person, 6 cars, 256.3ms\n",
            "Speed: 4.5ms preprocess, 256.3ms inference, 1.9ms postprocess per image at shape (1, 3, 416, 640)\n"
          ]
        },
        {
          "output_type": "stream",
          "name": "stderr",
          "text": [
            "\r  5%|▍         | 8/173 [00:08<01:19,  2.07it/s]"
          ]
        },
        {
          "output_type": "stream",
          "name": "stdout",
          "text": [
            "\n",
            "0: 416x640 7 cars, 197.2ms\n",
            "Speed: 8.2ms preprocess, 197.2ms inference, 1.2ms postprocess per image at shape (1, 3, 416, 640)\n"
          ]
        },
        {
          "output_type": "stream",
          "name": "stderr",
          "text": [
            "\r  5%|▌         | 9/173 [00:09<01:07,  2.42it/s]"
          ]
        },
        {
          "output_type": "stream",
          "name": "stdout",
          "text": [
            "\n",
            "0: 416x640 6 cars, 156.7ms\n",
            "Speed: 5.3ms preprocess, 156.7ms inference, 1.1ms postprocess per image at shape (1, 3, 416, 640)\n"
          ]
        },
        {
          "output_type": "stream",
          "name": "stderr",
          "text": [
            "\r  6%|▌         | 10/173 [00:09<00:56,  2.87it/s]"
          ]
        },
        {
          "output_type": "stream",
          "name": "stdout",
          "text": [
            "\n",
            "0: 416x640 6 cars, 168.2ms\n",
            "Speed: 4.4ms preprocess, 168.2ms inference, 1.2ms postprocess per image at shape (1, 3, 416, 640)\n"
          ]
        },
        {
          "output_type": "stream",
          "name": "stderr",
          "text": [
            "\r  6%|▋         | 11/173 [00:09<00:49,  3.26it/s]"
          ]
        },
        {
          "output_type": "stream",
          "name": "stdout",
          "text": [
            "\n",
            "0: 416x640 6 cars, 163.0ms\n",
            "Speed: 4.6ms preprocess, 163.0ms inference, 1.3ms postprocess per image at shape (1, 3, 416, 640)\n"
          ]
        },
        {
          "output_type": "stream",
          "name": "stderr",
          "text": [
            "\r  7%|▋         | 12/173 [00:09<00:44,  3.61it/s]"
          ]
        },
        {
          "output_type": "stream",
          "name": "stdout",
          "text": [
            "\n",
            "0: 416x640 7 cars, 151.8ms\n",
            "Speed: 4.5ms preprocess, 151.8ms inference, 1.1ms postprocess per image at shape (1, 3, 416, 640)\n"
          ]
        },
        {
          "output_type": "stream",
          "name": "stderr",
          "text": [
            "\r  8%|▊         | 13/173 [00:09<00:40,  3.97it/s]"
          ]
        },
        {
          "output_type": "stream",
          "name": "stdout",
          "text": [
            "\n",
            "0: 416x640 4 cars, 150.5ms\n",
            "Speed: 4.6ms preprocess, 150.5ms inference, 1.2ms postprocess per image at shape (1, 3, 416, 640)\n"
          ]
        },
        {
          "output_type": "stream",
          "name": "stderr",
          "text": [
            "\r  8%|▊         | 14/173 [00:10<00:37,  4.26it/s]"
          ]
        },
        {
          "output_type": "stream",
          "name": "stdout",
          "text": [
            "\n",
            "0: 416x640 3 cars, 152.9ms\n",
            "Speed: 4.3ms preprocess, 152.9ms inference, 1.2ms postprocess per image at shape (1, 3, 416, 640)\n"
          ]
        },
        {
          "output_type": "stream",
          "name": "stderr",
          "text": [
            "\r  9%|▊         | 15/173 [00:10<00:35,  4.48it/s]"
          ]
        },
        {
          "output_type": "stream",
          "name": "stdout",
          "text": [
            "\n",
            "0: 416x640 2 cars, 160.1ms\n",
            "Speed: 4.4ms preprocess, 160.1ms inference, 1.5ms postprocess per image at shape (1, 3, 416, 640)\n"
          ]
        },
        {
          "output_type": "stream",
          "name": "stderr",
          "text": [
            "\r  9%|▉         | 16/173 [00:10<00:34,  4.61it/s]"
          ]
        },
        {
          "output_type": "stream",
          "name": "stdout",
          "text": [
            "\n",
            "0: 416x640 6 cars, 179.0ms\n",
            "Speed: 4.6ms preprocess, 179.0ms inference, 1.2ms postprocess per image at shape (1, 3, 416, 640)\n"
          ]
        },
        {
          "output_type": "stream",
          "name": "stderr",
          "text": [
            "\r 10%|▉         | 17/173 [00:10<00:34,  4.57it/s]"
          ]
        },
        {
          "output_type": "stream",
          "name": "stdout",
          "text": [
            "\n",
            "0: 416x640 7 cars, 154.6ms\n",
            "Speed: 4.3ms preprocess, 154.6ms inference, 1.2ms postprocess per image at shape (1, 3, 416, 640)\n"
          ]
        },
        {
          "output_type": "stream",
          "name": "stderr",
          "text": [
            "\r 10%|█         | 18/173 [00:10<00:32,  4.71it/s]"
          ]
        },
        {
          "output_type": "stream",
          "name": "stdout",
          "text": [
            "\n",
            "0: 416x640 4 cars, 150.2ms\n",
            "Speed: 4.2ms preprocess, 150.2ms inference, 1.1ms postprocess per image at shape (1, 3, 416, 640)\n"
          ]
        },
        {
          "output_type": "stream",
          "name": "stderr",
          "text": [
            "\r 11%|█         | 19/173 [00:11<00:31,  4.85it/s]"
          ]
        },
        {
          "output_type": "stream",
          "name": "stdout",
          "text": [
            "\n",
            "0: 416x640 4 cars, 154.1ms\n",
            "Speed: 4.3ms preprocess, 154.1ms inference, 1.3ms postprocess per image at shape (1, 3, 416, 640)\n"
          ]
        },
        {
          "output_type": "stream",
          "name": "stderr",
          "text": [
            "\r 12%|█▏        | 20/173 [00:11<00:31,  4.92it/s]"
          ]
        },
        {
          "output_type": "stream",
          "name": "stdout",
          "text": [
            "\n",
            "0: 416x640 3 cars, 172.0ms\n",
            "Speed: 4.4ms preprocess, 172.0ms inference, 1.1ms postprocess per image at shape (1, 3, 416, 640)\n"
          ]
        },
        {
          "output_type": "stream",
          "name": "stderr",
          "text": [
            "\r 12%|█▏        | 21/173 [00:11<00:31,  4.85it/s]"
          ]
        },
        {
          "output_type": "stream",
          "name": "stdout",
          "text": [
            "\n",
            "0: 416x640 6 cars, 164.9ms\n",
            "Speed: 4.2ms preprocess, 164.9ms inference, 1.1ms postprocess per image at shape (1, 3, 416, 640)\n"
          ]
        },
        {
          "output_type": "stream",
          "name": "stderr",
          "text": [
            "\r 13%|█▎        | 22/173 [00:11<00:31,  4.85it/s]"
          ]
        },
        {
          "output_type": "stream",
          "name": "stdout",
          "text": [
            "\n",
            "0: 416x640 8 cars, 150.4ms\n",
            "Speed: 4.4ms preprocess, 150.4ms inference, 1.2ms postprocess per image at shape (1, 3, 416, 640)\n"
          ]
        },
        {
          "output_type": "stream",
          "name": "stderr",
          "text": [
            "\r 13%|█▎        | 23/173 [00:11<00:30,  4.94it/s]"
          ]
        },
        {
          "output_type": "stream",
          "name": "stdout",
          "text": [
            "\n",
            "0: 416x640 5 cars, 148.9ms\n",
            "Speed: 4.3ms preprocess, 148.9ms inference, 1.1ms postprocess per image at shape (1, 3, 416, 640)\n"
          ]
        },
        {
          "output_type": "stream",
          "name": "stderr",
          "text": [
            "\r 14%|█▍        | 24/173 [00:12<00:29,  5.02it/s]"
          ]
        },
        {
          "output_type": "stream",
          "name": "stdout",
          "text": [
            "\n",
            "0: 416x640 4 cars, 150.5ms\n",
            "Speed: 4.2ms preprocess, 150.5ms inference, 1.4ms postprocess per image at shape (1, 3, 416, 640)\n"
          ]
        },
        {
          "output_type": "stream",
          "name": "stderr",
          "text": [
            "\r 14%|█▍        | 25/173 [00:12<00:29,  5.05it/s]"
          ]
        },
        {
          "output_type": "stream",
          "name": "stdout",
          "text": [
            "\n",
            "0: 416x640 4 cars, 161.5ms\n",
            "Speed: 4.7ms preprocess, 161.5ms inference, 1.4ms postprocess per image at shape (1, 3, 416, 640)\n"
          ]
        },
        {
          "output_type": "stream",
          "name": "stderr",
          "text": [
            "\r 15%|█▌        | 26/173 [00:12<00:29,  5.01it/s]"
          ]
        },
        {
          "output_type": "stream",
          "name": "stdout",
          "text": [
            "\n",
            "0: 416x640 3 cars, 167.1ms\n",
            "Speed: 4.5ms preprocess, 167.1ms inference, 1.2ms postprocess per image at shape (1, 3, 416, 640)\n"
          ]
        },
        {
          "output_type": "stream",
          "name": "stderr",
          "text": [
            "\r 16%|█▌        | 27/173 [00:12<00:29,  4.92it/s]"
          ]
        },
        {
          "output_type": "stream",
          "name": "stdout",
          "text": [
            "\n",
            "0: 416x640 3 cars, 151.4ms\n",
            "Speed: 4.5ms preprocess, 151.4ms inference, 1.3ms postprocess per image at shape (1, 3, 416, 640)\n"
          ]
        },
        {
          "output_type": "stream",
          "name": "stderr",
          "text": [
            "\r 16%|█▌        | 28/173 [00:12<00:29,  4.99it/s]"
          ]
        },
        {
          "output_type": "stream",
          "name": "stdout",
          "text": [
            "\n",
            "0: 416x640 4 cars, 154.1ms\n",
            "Speed: 4.8ms preprocess, 154.1ms inference, 1.1ms postprocess per image at shape (1, 3, 416, 640)\n"
          ]
        },
        {
          "output_type": "stream",
          "name": "stderr",
          "text": [
            "\r 17%|█▋        | 29/173 [00:13<00:28,  5.00it/s]"
          ]
        },
        {
          "output_type": "stream",
          "name": "stdout",
          "text": [
            "\n",
            "0: 416x640 3 cars, 1 fire hydrant, 158.9ms\n",
            "Speed: 4.4ms preprocess, 158.9ms inference, 1.2ms postprocess per image at shape (1, 3, 416, 640)\n"
          ]
        },
        {
          "output_type": "stream",
          "name": "stderr",
          "text": [
            "\r 17%|█▋        | 30/173 [00:13<00:28,  4.95it/s]"
          ]
        },
        {
          "output_type": "stream",
          "name": "stdout",
          "text": [
            "\n",
            "0: 416x640 4 cars, 154.1ms\n",
            "Speed: 4.8ms preprocess, 154.1ms inference, 1.7ms postprocess per image at shape (1, 3, 416, 640)\n"
          ]
        },
        {
          "output_type": "stream",
          "name": "stderr",
          "text": [
            "\r 18%|█▊        | 31/173 [00:13<00:28,  4.97it/s]"
          ]
        },
        {
          "output_type": "stream",
          "name": "stdout",
          "text": [
            "\n",
            "0: 416x640 4 cars, 161.7ms\n",
            "Speed: 4.4ms preprocess, 161.7ms inference, 1.1ms postprocess per image at shape (1, 3, 416, 640)\n"
          ]
        },
        {
          "output_type": "stream",
          "name": "stderr",
          "text": [
            "\r 18%|█▊        | 32/173 [00:13<00:28,  4.93it/s]"
          ]
        },
        {
          "output_type": "stream",
          "name": "stdout",
          "text": [
            "\n",
            "0: 416x640 3 cars, 158.7ms\n",
            "Speed: 4.5ms preprocess, 158.7ms inference, 1.2ms postprocess per image at shape (1, 3, 416, 640)\n"
          ]
        },
        {
          "output_type": "stream",
          "name": "stderr",
          "text": [
            "\r 19%|█▉        | 33/173 [00:13<00:28,  4.85it/s]"
          ]
        },
        {
          "output_type": "stream",
          "name": "stdout",
          "text": [
            "\n",
            "0: 416x640 6 cars, 153.7ms\n",
            "Speed: 5.7ms preprocess, 153.7ms inference, 1.2ms postprocess per image at shape (1, 3, 416, 640)\n"
          ]
        },
        {
          "output_type": "stream",
          "name": "stderr",
          "text": [
            "\r 20%|█▉        | 34/173 [00:14<00:28,  4.91it/s]"
          ]
        },
        {
          "output_type": "stream",
          "name": "stdout",
          "text": [
            "\n",
            "0: 416x640 3 cars, 158.5ms\n",
            "Speed: 4.5ms preprocess, 158.5ms inference, 1.4ms postprocess per image at shape (1, 3, 416, 640)\n"
          ]
        },
        {
          "output_type": "stream",
          "name": "stderr",
          "text": [
            "\r 20%|██        | 35/173 [00:14<00:28,  4.89it/s]"
          ]
        },
        {
          "output_type": "stream",
          "name": "stdout",
          "text": [
            "\n",
            "0: 416x640 2 cars, 152.3ms\n",
            "Speed: 4.4ms preprocess, 152.3ms inference, 1.2ms postprocess per image at shape (1, 3, 416, 640)\n"
          ]
        },
        {
          "output_type": "stream",
          "name": "stderr",
          "text": [
            "\r 21%|██        | 36/173 [00:14<00:27,  4.93it/s]"
          ]
        },
        {
          "output_type": "stream",
          "name": "stdout",
          "text": [
            "\n",
            "0: 416x640 3 cars, 162.2ms\n",
            "Speed: 4.5ms preprocess, 162.2ms inference, 1.3ms postprocess per image at shape (1, 3, 416, 640)\n"
          ]
        },
        {
          "output_type": "stream",
          "name": "stderr",
          "text": [
            "\r 21%|██▏       | 37/173 [00:14<00:27,  4.90it/s]"
          ]
        },
        {
          "output_type": "stream",
          "name": "stdout",
          "text": [
            "\n",
            "0: 416x640 3 cars, 160.5ms\n",
            "Speed: 4.4ms preprocess, 160.5ms inference, 1.4ms postprocess per image at shape (1, 3, 416, 640)\n"
          ]
        },
        {
          "output_type": "stream",
          "name": "stderr",
          "text": [
            "\r 22%|██▏       | 38/173 [00:14<00:27,  4.91it/s]"
          ]
        },
        {
          "output_type": "stream",
          "name": "stdout",
          "text": [
            "\n",
            "0: 416x640 3 cars, 149.7ms\n",
            "Speed: 4.7ms preprocess, 149.7ms inference, 1.1ms postprocess per image at shape (1, 3, 416, 640)\n"
          ]
        },
        {
          "output_type": "stream",
          "name": "stderr",
          "text": [
            "\r 23%|██▎       | 39/173 [00:15<00:26,  4.99it/s]"
          ]
        },
        {
          "output_type": "stream",
          "name": "stdout",
          "text": [
            "\n",
            "0: 416x640 3 cars, 149.8ms\n",
            "Speed: 4.2ms preprocess, 149.8ms inference, 1.2ms postprocess per image at shape (1, 3, 416, 640)\n"
          ]
        },
        {
          "output_type": "stream",
          "name": "stderr",
          "text": [
            "\r 23%|██▎       | 40/173 [00:15<00:26,  5.06it/s]"
          ]
        },
        {
          "output_type": "stream",
          "name": "stdout",
          "text": [
            "\n",
            "0: 416x640 4 cars, 156.6ms\n",
            "Speed: 4.6ms preprocess, 156.6ms inference, 1.2ms postprocess per image at shape (1, 3, 416, 640)\n"
          ]
        },
        {
          "output_type": "stream",
          "name": "stderr",
          "text": [
            "\r 24%|██▎       | 41/173 [00:15<00:26,  5.04it/s]"
          ]
        },
        {
          "output_type": "stream",
          "name": "stdout",
          "text": [
            "\n",
            "0: 416x640 4 cars, 171.1ms\n",
            "Speed: 4.7ms preprocess, 171.1ms inference, 1.3ms postprocess per image at shape (1, 3, 416, 640)\n"
          ]
        },
        {
          "output_type": "stream",
          "name": "stderr",
          "text": [
            "\r 24%|██▍       | 42/173 [00:15<00:26,  4.93it/s]"
          ]
        },
        {
          "output_type": "stream",
          "name": "stdout",
          "text": [
            "\n",
            "0: 416x640 4 cars, 154.4ms\n",
            "Speed: 5.0ms preprocess, 154.4ms inference, 1.2ms postprocess per image at shape (1, 3, 416, 640)\n"
          ]
        },
        {
          "output_type": "stream",
          "name": "stderr",
          "text": [
            "\r 25%|██▍       | 43/173 [00:15<00:26,  4.97it/s]"
          ]
        },
        {
          "output_type": "stream",
          "name": "stdout",
          "text": [
            "\n",
            "0: 416x640 1 person, 3 cars, 149.5ms\n",
            "Speed: 4.4ms preprocess, 149.5ms inference, 1.2ms postprocess per image at shape (1, 3, 416, 640)\n"
          ]
        },
        {
          "output_type": "stream",
          "name": "stderr",
          "text": [
            "\r 25%|██▌       | 44/173 [00:16<00:25,  5.04it/s]"
          ]
        },
        {
          "output_type": "stream",
          "name": "stdout",
          "text": [
            "\n",
            "0: 416x640 4 cars, 153.6ms\n",
            "Speed: 4.4ms preprocess, 153.6ms inference, 1.2ms postprocess per image at shape (1, 3, 416, 640)\n"
          ]
        },
        {
          "output_type": "stream",
          "name": "stderr",
          "text": [
            "\r 26%|██▌       | 45/173 [00:16<00:25,  5.04it/s]"
          ]
        },
        {
          "output_type": "stream",
          "name": "stdout",
          "text": [
            "\n",
            "0: 416x640 5 cars, 152.3ms\n",
            "Speed: 4.4ms preprocess, 152.3ms inference, 1.2ms postprocess per image at shape (1, 3, 416, 640)\n"
          ]
        },
        {
          "output_type": "stream",
          "name": "stderr",
          "text": [
            "\r 27%|██▋       | 46/173 [00:16<00:25,  5.05it/s]"
          ]
        },
        {
          "output_type": "stream",
          "name": "stdout",
          "text": [
            "\n",
            "0: 416x640 6 cars, 1 fire hydrant, 186.0ms\n",
            "Speed: 5.1ms preprocess, 186.0ms inference, 1.3ms postprocess per image at shape (1, 3, 416, 640)\n"
          ]
        },
        {
          "output_type": "stream",
          "name": "stderr",
          "text": [
            "\r 27%|██▋       | 47/173 [00:16<00:26,  4.80it/s]"
          ]
        },
        {
          "output_type": "stream",
          "name": "stdout",
          "text": [
            "\n",
            "0: 416x640 4 cars, 1 fire hydrant, 151.5ms\n",
            "Speed: 5.1ms preprocess, 151.5ms inference, 1.3ms postprocess per image at shape (1, 3, 416, 640)\n"
          ]
        },
        {
          "output_type": "stream",
          "name": "stderr",
          "text": [
            "\r 28%|██▊       | 48/173 [00:16<00:25,  4.87it/s]"
          ]
        },
        {
          "output_type": "stream",
          "name": "stdout",
          "text": [
            "\n",
            "0: 416x640 4 cars, 163.7ms\n",
            "Speed: 4.5ms preprocess, 163.7ms inference, 1.2ms postprocess per image at shape (1, 3, 416, 640)\n"
          ]
        },
        {
          "output_type": "stream",
          "name": "stderr",
          "text": [
            "\r 28%|██▊       | 49/173 [00:17<00:25,  4.86it/s]"
          ]
        },
        {
          "output_type": "stream",
          "name": "stdout",
          "text": [
            "\n",
            "0: 416x640 3 cars, 1 fire hydrant, 151.2ms\n",
            "Speed: 4.7ms preprocess, 151.2ms inference, 1.2ms postprocess per image at shape (1, 3, 416, 640)\n"
          ]
        },
        {
          "output_type": "stream",
          "name": "stderr",
          "text": [
            "\r 29%|██▉       | 50/173 [00:17<00:24,  4.94it/s]"
          ]
        },
        {
          "output_type": "stream",
          "name": "stdout",
          "text": [
            "\n",
            "0: 416x640 4 cars, 1 fire hydrant, 154.8ms\n",
            "Speed: 4.1ms preprocess, 154.8ms inference, 1.2ms postprocess per image at shape (1, 3, 416, 640)\n"
          ]
        },
        {
          "output_type": "stream",
          "name": "stderr",
          "text": [
            "\r 29%|██▉       | 51/173 [00:17<00:24,  4.97it/s]"
          ]
        },
        {
          "output_type": "stream",
          "name": "stdout",
          "text": [
            "\n",
            "0: 416x640 5 cars, 167.0ms\n",
            "Speed: 5.9ms preprocess, 167.0ms inference, 1.2ms postprocess per image at shape (1, 3, 416, 640)\n"
          ]
        },
        {
          "output_type": "stream",
          "name": "stderr",
          "text": [
            "\r 30%|███       | 52/173 [00:17<00:24,  4.86it/s]"
          ]
        },
        {
          "output_type": "stream",
          "name": "stdout",
          "text": [
            "\n",
            "0: 416x640 5 cars, 163.3ms\n",
            "Speed: 4.7ms preprocess, 163.3ms inference, 1.2ms postprocess per image at shape (1, 3, 416, 640)\n"
          ]
        },
        {
          "output_type": "stream",
          "name": "stderr",
          "text": [
            "\r 31%|███       | 53/173 [00:17<00:24,  4.82it/s]"
          ]
        },
        {
          "output_type": "stream",
          "name": "stdout",
          "text": [
            "\n",
            "0: 416x640 4 cars, 151.4ms\n",
            "Speed: 4.2ms preprocess, 151.4ms inference, 1.2ms postprocess per image at shape (1, 3, 416, 640)\n"
          ]
        },
        {
          "output_type": "stream",
          "name": "stderr",
          "text": [
            "\r 31%|███       | 54/173 [00:18<00:24,  4.91it/s]"
          ]
        },
        {
          "output_type": "stream",
          "name": "stdout",
          "text": [
            "\n",
            "0: 416x640 4 cars, 158.7ms\n",
            "Speed: 4.2ms preprocess, 158.7ms inference, 1.1ms postprocess per image at shape (1, 3, 416, 640)\n"
          ]
        },
        {
          "output_type": "stream",
          "name": "stderr",
          "text": [
            "\r 32%|███▏      | 55/173 [00:18<00:24,  4.90it/s]"
          ]
        },
        {
          "output_type": "stream",
          "name": "stdout",
          "text": [
            "\n",
            "0: 416x640 3 cars, 161.7ms\n",
            "Speed: 4.4ms preprocess, 161.7ms inference, 1.7ms postprocess per image at shape (1, 3, 416, 640)\n"
          ]
        },
        {
          "output_type": "stream",
          "name": "stderr",
          "text": [
            "\r 32%|███▏      | 56/173 [00:18<00:24,  4.86it/s]"
          ]
        },
        {
          "output_type": "stream",
          "name": "stdout",
          "text": [
            "\n",
            "0: 416x640 3 cars, 162.8ms\n",
            "Speed: 5.0ms preprocess, 162.8ms inference, 1.2ms postprocess per image at shape (1, 3, 416, 640)\n"
          ]
        },
        {
          "output_type": "stream",
          "name": "stderr",
          "text": [
            "\r 33%|███▎      | 57/173 [00:18<00:24,  4.82it/s]"
          ]
        },
        {
          "output_type": "stream",
          "name": "stdout",
          "text": [
            "\n",
            "0: 416x640 4 cars, 222.1ms\n",
            "Speed: 4.6ms preprocess, 222.1ms inference, 1.7ms postprocess per image at shape (1, 3, 416, 640)\n"
          ]
        },
        {
          "output_type": "stream",
          "name": "stderr",
          "text": [
            "\r 34%|███▎      | 58/173 [00:19<00:26,  4.34it/s]"
          ]
        },
        {
          "output_type": "stream",
          "name": "stdout",
          "text": [
            "\n",
            "0: 416x640 4 cars, 390.1ms\n",
            "Speed: 5.2ms preprocess, 390.1ms inference, 1.5ms postprocess per image at shape (1, 3, 416, 640)\n"
          ]
        },
        {
          "output_type": "stream",
          "name": "stderr",
          "text": [
            "\r 34%|███▍      | 59/173 [00:19<00:34,  3.31it/s]"
          ]
        },
        {
          "output_type": "stream",
          "name": "stdout",
          "text": [
            "\n",
            "0: 416x640 5 cars, 237.1ms\n",
            "Speed: 4.9ms preprocess, 237.1ms inference, 1.5ms postprocess per image at shape (1, 3, 416, 640)\n"
          ]
        },
        {
          "output_type": "stream",
          "name": "stderr",
          "text": [
            "\r 35%|███▍      | 60/173 [00:19<00:33,  3.33it/s]"
          ]
        },
        {
          "output_type": "stream",
          "name": "stdout",
          "text": [
            "\n",
            "0: 416x640 4 cars, 468.8ms\n",
            "Speed: 4.6ms preprocess, 468.8ms inference, 1.8ms postprocess per image at shape (1, 3, 416, 640)\n"
          ]
        },
        {
          "output_type": "stream",
          "name": "stderr",
          "text": [
            "\r 35%|███▌      | 61/173 [00:20<00:42,  2.64it/s]"
          ]
        },
        {
          "output_type": "stream",
          "name": "stdout",
          "text": [
            "\n",
            "0: 416x640 3 cars, 298.4ms\n",
            "Speed: 9.3ms preprocess, 298.4ms inference, 1.5ms postprocess per image at shape (1, 3, 416, 640)\n"
          ]
        },
        {
          "output_type": "stream",
          "name": "stderr",
          "text": [
            "\r 36%|███▌      | 62/173 [00:20<00:42,  2.60it/s]"
          ]
        },
        {
          "output_type": "stream",
          "name": "stdout",
          "text": [
            "\n",
            "0: 416x640 2 cars, 435.1ms\n",
            "Speed: 11.3ms preprocess, 435.1ms inference, 1.6ms postprocess per image at shape (1, 3, 416, 640)\n"
          ]
        },
        {
          "output_type": "stream",
          "name": "stderr",
          "text": [
            "\r 36%|███▋      | 63/173 [00:21<00:47,  2.29it/s]"
          ]
        },
        {
          "output_type": "stream",
          "name": "stdout",
          "text": [
            "\n",
            "0: 416x640 3 cars, 247.9ms\n",
            "Speed: 4.7ms preprocess, 247.9ms inference, 1.6ms postprocess per image at shape (1, 3, 416, 640)\n"
          ]
        },
        {
          "output_type": "stream",
          "name": "stderr",
          "text": [
            "\r 37%|███▋      | 64/173 [00:21<00:44,  2.47it/s]"
          ]
        },
        {
          "output_type": "stream",
          "name": "stdout",
          "text": [
            "\n",
            "0: 416x640 1 car, 282.0ms\n",
            "Speed: 4.9ms preprocess, 282.0ms inference, 1.8ms postprocess per image at shape (1, 3, 416, 640)\n"
          ]
        },
        {
          "output_type": "stream",
          "name": "stderr",
          "text": [
            "\r 38%|███▊      | 65/173 [00:22<00:41,  2.59it/s]"
          ]
        },
        {
          "output_type": "stream",
          "name": "stdout",
          "text": [
            "\n",
            "0: 416x640 (no detections), 161.7ms\n",
            "Speed: 4.5ms preprocess, 161.7ms inference, 0.8ms postprocess per image at shape (1, 3, 416, 640)\n"
          ]
        },
        {
          "output_type": "stream",
          "name": "stderr",
          "text": [
            "\r 38%|███▊      | 66/173 [00:22<00:35,  3.02it/s]"
          ]
        },
        {
          "output_type": "stream",
          "name": "stdout",
          "text": [
            "\n",
            "0: 416x640 (no detections), 148.1ms\n",
            "Speed: 4.4ms preprocess, 148.1ms inference, 0.8ms postprocess per image at shape (1, 3, 416, 640)\n"
          ]
        },
        {
          "output_type": "stream",
          "name": "stderr",
          "text": [
            "\r 39%|███▊      | 67/173 [00:22<00:30,  3.46it/s]"
          ]
        },
        {
          "output_type": "stream",
          "name": "stdout",
          "text": [
            "\n",
            "0: 416x640 (no detections), 173.1ms\n",
            "Speed: 5.3ms preprocess, 173.1ms inference, 1.1ms postprocess per image at shape (1, 3, 416, 640)\n"
          ]
        },
        {
          "output_type": "stream",
          "name": "stderr",
          "text": [
            "\r 39%|███▉      | 68/173 [00:22<00:28,  3.74it/s]"
          ]
        },
        {
          "output_type": "stream",
          "name": "stdout",
          "text": [
            "\n",
            "0: 416x640 2 cars, 148.1ms\n",
            "Speed: 5.4ms preprocess, 148.1ms inference, 1.2ms postprocess per image at shape (1, 3, 416, 640)\n"
          ]
        },
        {
          "output_type": "stream",
          "name": "stderr",
          "text": [
            "\r 40%|███▉      | 69/173 [00:22<00:25,  4.06it/s]"
          ]
        },
        {
          "output_type": "stream",
          "name": "stdout",
          "text": [
            "\n",
            "0: 416x640 1 car, 301.4ms\n",
            "Speed: 4.7ms preprocess, 301.4ms inference, 8.6ms postprocess per image at shape (1, 3, 416, 640)\n"
          ]
        },
        {
          "output_type": "stream",
          "name": "stderr",
          "text": [
            "\r 40%|████      | 70/173 [00:23<00:29,  3.53it/s]"
          ]
        },
        {
          "output_type": "stream",
          "name": "stdout",
          "text": [
            "\n",
            "0: 416x640 1 car, 155.1ms\n",
            "Speed: 4.6ms preprocess, 155.1ms inference, 1.2ms postprocess per image at shape (1, 3, 416, 640)\n"
          ]
        },
        {
          "output_type": "stream",
          "name": "stderr",
          "text": [
            "\r 41%|████      | 71/173 [00:23<00:26,  3.85it/s]"
          ]
        },
        {
          "output_type": "stream",
          "name": "stdout",
          "text": [
            "\n",
            "0: 416x640 1 car, 162.2ms\n",
            "Speed: 4.8ms preprocess, 162.2ms inference, 1.2ms postprocess per image at shape (1, 3, 416, 640)\n"
          ]
        },
        {
          "output_type": "stream",
          "name": "stderr",
          "text": [
            "\r 42%|████▏     | 72/173 [00:23<00:24,  4.09it/s]"
          ]
        },
        {
          "output_type": "stream",
          "name": "stdout",
          "text": [
            "\n",
            "0: 416x640 1 car, 177.9ms\n",
            "Speed: 4.5ms preprocess, 177.9ms inference, 1.3ms postprocess per image at shape (1, 3, 416, 640)\n"
          ]
        },
        {
          "output_type": "stream",
          "name": "stderr",
          "text": [
            "\r 42%|████▏     | 73/173 [00:23<00:23,  4.22it/s]"
          ]
        },
        {
          "output_type": "stream",
          "name": "stdout",
          "text": [
            "\n",
            "0: 416x640 2 cars, 260.7ms\n",
            "Speed: 4.7ms preprocess, 260.7ms inference, 1.2ms postprocess per image at shape (1, 3, 416, 640)\n"
          ]
        },
        {
          "output_type": "stream",
          "name": "stderr",
          "text": [
            "\r 43%|████▎     | 74/173 [00:24<00:25,  3.88it/s]"
          ]
        },
        {
          "output_type": "stream",
          "name": "stdout",
          "text": [
            "\n",
            "0: 416x640 (no detections), 194.2ms\n",
            "Speed: 5.3ms preprocess, 194.2ms inference, 1.3ms postprocess per image at shape (1, 3, 416, 640)\n"
          ]
        },
        {
          "output_type": "stream",
          "name": "stderr",
          "text": [
            "\r 43%|████▎     | 75/173 [00:24<00:24,  3.95it/s]"
          ]
        },
        {
          "output_type": "stream",
          "name": "stdout",
          "text": [
            "\n",
            "0: 416x640 (no detections), 167.0ms\n",
            "Speed: 5.1ms preprocess, 167.0ms inference, 1.0ms postprocess per image at shape (1, 3, 416, 640)\n"
          ]
        },
        {
          "output_type": "stream",
          "name": "stderr",
          "text": [
            "\r 44%|████▍     | 76/173 [00:24<00:23,  4.12it/s]"
          ]
        },
        {
          "output_type": "stream",
          "name": "stdout",
          "text": [
            "\n",
            "0: 416x640 (no detections), 146.9ms\n",
            "Speed: 5.1ms preprocess, 146.9ms inference, 0.7ms postprocess per image at shape (1, 3, 416, 640)\n"
          ]
        },
        {
          "output_type": "stream",
          "name": "stderr",
          "text": [
            "\r 45%|████▍     | 77/173 [00:24<00:21,  4.40it/s]"
          ]
        },
        {
          "output_type": "stream",
          "name": "stdout",
          "text": [
            "\n",
            "0: 416x640 1 traffic light, 148.3ms\n",
            "Speed: 6.2ms preprocess, 148.3ms inference, 1.2ms postprocess per image at shape (1, 3, 416, 640)\n"
          ]
        },
        {
          "output_type": "stream",
          "name": "stderr",
          "text": [
            "\r 45%|████▌     | 78/173 [00:25<00:20,  4.61it/s]"
          ]
        },
        {
          "output_type": "stream",
          "name": "stdout",
          "text": [
            "\n",
            "0: 416x640 (no detections), 152.9ms\n",
            "Speed: 4.5ms preprocess, 152.9ms inference, 0.9ms postprocess per image at shape (1, 3, 416, 640)\n"
          ]
        },
        {
          "output_type": "stream",
          "name": "stderr",
          "text": [
            "\r 46%|████▌     | 79/173 [00:25<00:19,  4.70it/s]"
          ]
        },
        {
          "output_type": "stream",
          "name": "stdout",
          "text": [
            "\n",
            "0: 416x640 (no detections), 148.8ms\n",
            "Speed: 4.5ms preprocess, 148.8ms inference, 0.8ms postprocess per image at shape (1, 3, 416, 640)\n"
          ]
        },
        {
          "output_type": "stream",
          "name": "stderr",
          "text": [
            "\r 46%|████▌     | 80/173 [00:25<00:19,  4.73it/s]"
          ]
        },
        {
          "output_type": "stream",
          "name": "stdout",
          "text": [
            "\n",
            "0: 416x640 (no detections), 271.7ms\n",
            "Speed: 5.7ms preprocess, 271.7ms inference, 8.2ms postprocess per image at shape (1, 3, 416, 640)\n"
          ]
        },
        {
          "output_type": "stream",
          "name": "stderr",
          "text": [
            "\r 47%|████▋     | 81/173 [00:25<00:23,  3.89it/s]"
          ]
        },
        {
          "output_type": "stream",
          "name": "stdout",
          "text": [
            "\n",
            "0: 416x640 (no detections), 149.1ms\n",
            "Speed: 5.0ms preprocess, 149.1ms inference, 0.8ms postprocess per image at shape (1, 3, 416, 640)\n"
          ]
        },
        {
          "output_type": "stream",
          "name": "stderr",
          "text": [
            "\r 47%|████▋     | 82/173 [00:25<00:21,  4.16it/s]"
          ]
        },
        {
          "output_type": "stream",
          "name": "stdout",
          "text": [
            "\n",
            "0: 416x640 1 parking meter, 161.4ms\n",
            "Speed: 4.2ms preprocess, 161.4ms inference, 1.0ms postprocess per image at shape (1, 3, 416, 640)\n"
          ]
        },
        {
          "output_type": "stream",
          "name": "stderr",
          "text": [
            "\r 48%|████▊     | 83/173 [00:26<00:20,  4.32it/s]"
          ]
        },
        {
          "output_type": "stream",
          "name": "stdout",
          "text": [
            "\n",
            "0: 416x640 1 parking meter, 153.8ms\n",
            "Speed: 4.5ms preprocess, 153.8ms inference, 1.1ms postprocess per image at shape (1, 3, 416, 640)\n"
          ]
        },
        {
          "output_type": "stream",
          "name": "stderr",
          "text": [
            "\r 49%|████▊     | 84/173 [00:26<00:19,  4.52it/s]"
          ]
        },
        {
          "output_type": "stream",
          "name": "stdout",
          "text": [
            "\n",
            "0: 416x640 (no detections), 152.2ms\n",
            "Speed: 4.3ms preprocess, 152.2ms inference, 1.1ms postprocess per image at shape (1, 3, 416, 640)\n"
          ]
        },
        {
          "output_type": "stream",
          "name": "stderr",
          "text": [
            "\r 49%|████▉     | 85/173 [00:26<00:18,  4.65it/s]"
          ]
        },
        {
          "output_type": "stream",
          "name": "stdout",
          "text": [
            "\n",
            "0: 416x640 (no detections), 149.3ms\n",
            "Speed: 4.3ms preprocess, 149.3ms inference, 0.9ms postprocess per image at shape (1, 3, 416, 640)\n"
          ]
        },
        {
          "output_type": "stream",
          "name": "stderr",
          "text": [
            "\r 50%|████▉     | 86/173 [00:26<00:18,  4.77it/s]"
          ]
        },
        {
          "output_type": "stream",
          "name": "stdout",
          "text": [
            "\n",
            "0: 416x640 (no detections), 155.5ms\n",
            "Speed: 4.3ms preprocess, 155.5ms inference, 0.8ms postprocess per image at shape (1, 3, 416, 640)\n"
          ]
        },
        {
          "output_type": "stream",
          "name": "stderr",
          "text": [
            "\r 50%|█████     | 87/173 [00:26<00:17,  4.81it/s]"
          ]
        },
        {
          "output_type": "stream",
          "name": "stdout",
          "text": [
            "\n",
            "0: 416x640 1 car, 167.1ms\n",
            "Speed: 4.8ms preprocess, 167.1ms inference, 1.1ms postprocess per image at shape (1, 3, 416, 640)\n"
          ]
        },
        {
          "output_type": "stream",
          "name": "stderr",
          "text": [
            "\r 51%|█████     | 88/173 [00:27<00:17,  4.75it/s]"
          ]
        },
        {
          "output_type": "stream",
          "name": "stdout",
          "text": [
            "\n",
            "0: 416x640 1 car, 150.8ms\n",
            "Speed: 4.2ms preprocess, 150.8ms inference, 1.2ms postprocess per image at shape (1, 3, 416, 640)\n"
          ]
        },
        {
          "output_type": "stream",
          "name": "stderr",
          "text": [
            "\r 51%|█████▏    | 89/173 [00:27<00:17,  4.85it/s]"
          ]
        },
        {
          "output_type": "stream",
          "name": "stdout",
          "text": [
            "\n",
            "0: 416x640 1 car, 161.3ms\n",
            "Speed: 4.7ms preprocess, 161.3ms inference, 1.6ms postprocess per image at shape (1, 3, 416, 640)\n"
          ]
        },
        {
          "output_type": "stream",
          "name": "stderr",
          "text": [
            "\r 52%|█████▏    | 90/173 [00:27<00:17,  4.79it/s]"
          ]
        },
        {
          "output_type": "stream",
          "name": "stdout",
          "text": [
            "\n",
            "0: 416x640 1 car, 148.7ms\n",
            "Speed: 4.5ms preprocess, 148.7ms inference, 1.1ms postprocess per image at shape (1, 3, 416, 640)\n"
          ]
        },
        {
          "output_type": "stream",
          "name": "stderr",
          "text": [
            "\r 53%|█████▎    | 91/173 [00:27<00:16,  4.91it/s]"
          ]
        },
        {
          "output_type": "stream",
          "name": "stdout",
          "text": [
            "\n",
            "0: 416x640 2 cars, 154.5ms\n",
            "Speed: 4.2ms preprocess, 154.5ms inference, 1.3ms postprocess per image at shape (1, 3, 416, 640)\n"
          ]
        },
        {
          "output_type": "stream",
          "name": "stderr",
          "text": [
            "\r 53%|█████▎    | 92/173 [00:28<00:16,  4.95it/s]"
          ]
        },
        {
          "output_type": "stream",
          "name": "stdout",
          "text": [
            "\n",
            "0: 416x640 2 cars, 161.3ms\n",
            "Speed: 4.5ms preprocess, 161.3ms inference, 1.1ms postprocess per image at shape (1, 3, 416, 640)\n"
          ]
        },
        {
          "output_type": "stream",
          "name": "stderr",
          "text": [
            "\r 54%|█████▍    | 93/173 [00:28<00:16,  4.92it/s]"
          ]
        },
        {
          "output_type": "stream",
          "name": "stdout",
          "text": [
            "\n",
            "0: 416x640 2 cars, 157.3ms\n",
            "Speed: 4.2ms preprocess, 157.3ms inference, 1.6ms postprocess per image at shape (1, 3, 416, 640)\n"
          ]
        },
        {
          "output_type": "stream",
          "name": "stderr",
          "text": [
            "\r 54%|█████▍    | 94/173 [00:28<00:16,  4.91it/s]"
          ]
        },
        {
          "output_type": "stream",
          "name": "stdout",
          "text": [
            "\n",
            "0: 416x640 2 cars, 162.5ms\n",
            "Speed: 4.4ms preprocess, 162.5ms inference, 1.4ms postprocess per image at shape (1, 3, 416, 640)\n"
          ]
        },
        {
          "output_type": "stream",
          "name": "stderr",
          "text": [
            "\r 55%|█████▍    | 95/173 [00:28<00:16,  4.86it/s]"
          ]
        },
        {
          "output_type": "stream",
          "name": "stdout",
          "text": [
            "\n",
            "0: 416x640 3 cars, 1 parking meter, 146.6ms\n",
            "Speed: 4.7ms preprocess, 146.6ms inference, 1.3ms postprocess per image at shape (1, 3, 416, 640)\n"
          ]
        },
        {
          "output_type": "stream",
          "name": "stderr",
          "text": [
            "\r 55%|█████▌    | 96/173 [00:28<00:15,  4.95it/s]"
          ]
        },
        {
          "output_type": "stream",
          "name": "stdout",
          "text": [
            "\n",
            "0: 416x640 1 car, 1 stop sign, 156.0ms\n",
            "Speed: 4.1ms preprocess, 156.0ms inference, 1.3ms postprocess per image at shape (1, 3, 416, 640)\n"
          ]
        },
        {
          "output_type": "stream",
          "name": "stderr",
          "text": [
            "\r 56%|█████▌    | 97/173 [00:29<00:15,  4.96it/s]"
          ]
        },
        {
          "output_type": "stream",
          "name": "stdout",
          "text": [
            "\n",
            "0: 416x640 1 car, 1 stop sign, 162.6ms\n",
            "Speed: 4.8ms preprocess, 162.6ms inference, 1.2ms postprocess per image at shape (1, 3, 416, 640)\n"
          ]
        },
        {
          "output_type": "stream",
          "name": "stderr",
          "text": [
            "\r 57%|█████▋    | 98/173 [00:29<00:15,  4.91it/s]"
          ]
        },
        {
          "output_type": "stream",
          "name": "stdout",
          "text": [
            "\n",
            "0: 416x640 3 cars, 1 stop sign, 152.5ms\n",
            "Speed: 5.1ms preprocess, 152.5ms inference, 1.4ms postprocess per image at shape (1, 3, 416, 640)\n"
          ]
        },
        {
          "output_type": "stream",
          "name": "stderr",
          "text": [
            "\r 57%|█████▋    | 99/173 [00:29<00:15,  4.89it/s]"
          ]
        },
        {
          "output_type": "stream",
          "name": "stdout",
          "text": [
            "\n",
            "0: 416x640 2 cars, 1 stop sign, 167.6ms\n",
            "Speed: 4.2ms preprocess, 167.6ms inference, 1.3ms postprocess per image at shape (1, 3, 416, 640)\n"
          ]
        },
        {
          "output_type": "stream",
          "name": "stderr",
          "text": [
            "\r 58%|█████▊    | 100/173 [00:29<00:15,  4.83it/s]"
          ]
        },
        {
          "output_type": "stream",
          "name": "stdout",
          "text": [
            "\n",
            "0: 416x640 1 car, 1 stop sign, 146.1ms\n",
            "Speed: 4.8ms preprocess, 146.1ms inference, 1.1ms postprocess per image at shape (1, 3, 416, 640)\n"
          ]
        },
        {
          "output_type": "stream",
          "name": "stderr",
          "text": [
            "\r 58%|█████▊    | 101/173 [00:29<00:14,  4.94it/s]"
          ]
        },
        {
          "output_type": "stream",
          "name": "stdout",
          "text": [
            "\n",
            "0: 416x640 1 car, 1 stop sign, 152.1ms\n",
            "Speed: 5.2ms preprocess, 152.1ms inference, 1.3ms postprocess per image at shape (1, 3, 416, 640)\n"
          ]
        },
        {
          "output_type": "stream",
          "name": "stderr",
          "text": [
            "\r 59%|█████▉    | 102/173 [00:30<00:14,  4.95it/s]"
          ]
        },
        {
          "output_type": "stream",
          "name": "stdout",
          "text": [
            "\n",
            "0: 416x640 1 car, 1 stop sign, 168.3ms\n",
            "Speed: 4.8ms preprocess, 168.3ms inference, 1.3ms postprocess per image at shape (1, 3, 416, 640)\n"
          ]
        },
        {
          "output_type": "stream",
          "name": "stderr",
          "text": [
            "\r 60%|█████▉    | 103/173 [00:30<00:14,  4.83it/s]"
          ]
        },
        {
          "output_type": "stream",
          "name": "stdout",
          "text": [
            "\n",
            "0: 416x640 1 car, 151.7ms\n",
            "Speed: 4.3ms preprocess, 151.7ms inference, 1.2ms postprocess per image at shape (1, 3, 416, 640)\n"
          ]
        },
        {
          "output_type": "stream",
          "name": "stderr",
          "text": [
            "\r 60%|██████    | 104/173 [00:30<00:14,  4.90it/s]"
          ]
        },
        {
          "output_type": "stream",
          "name": "stdout",
          "text": [
            "\n",
            "0: 416x640 1 car, 168.6ms\n",
            "Speed: 4.3ms preprocess, 168.6ms inference, 1.2ms postprocess per image at shape (1, 3, 416, 640)\n"
          ]
        },
        {
          "output_type": "stream",
          "name": "stderr",
          "text": [
            "\r 61%|██████    | 105/173 [00:30<00:14,  4.83it/s]"
          ]
        },
        {
          "output_type": "stream",
          "name": "stdout",
          "text": [
            "\n",
            "0: 416x640 1 car, 151.0ms\n",
            "Speed: 4.3ms preprocess, 151.0ms inference, 1.1ms postprocess per image at shape (1, 3, 416, 640)\n"
          ]
        },
        {
          "output_type": "stream",
          "name": "stderr",
          "text": [
            "\r 61%|██████▏   | 106/173 [00:30<00:13,  4.89it/s]"
          ]
        },
        {
          "output_type": "stream",
          "name": "stdout",
          "text": [
            "\n",
            "0: 416x640 1 car, 154.0ms\n",
            "Speed: 4.6ms preprocess, 154.0ms inference, 1.2ms postprocess per image at shape (1, 3, 416, 640)\n"
          ]
        },
        {
          "output_type": "stream",
          "name": "stderr",
          "text": [
            "\r 62%|██████▏   | 107/173 [00:31<00:13,  4.87it/s]"
          ]
        },
        {
          "output_type": "stream",
          "name": "stdout",
          "text": [
            "\n",
            "0: 416x640 1 car, 160.7ms\n",
            "Speed: 5.0ms preprocess, 160.7ms inference, 1.2ms postprocess per image at shape (1, 3, 416, 640)\n"
          ]
        },
        {
          "output_type": "stream",
          "name": "stderr",
          "text": [
            "\r 62%|██████▏   | 108/173 [00:31<00:13,  4.86it/s]"
          ]
        },
        {
          "output_type": "stream",
          "name": "stdout",
          "text": [
            "\n",
            "0: 416x640 1 car, 153.4ms\n",
            "Speed: 5.4ms preprocess, 153.4ms inference, 1.2ms postprocess per image at shape (1, 3, 416, 640)\n"
          ]
        },
        {
          "output_type": "stream",
          "name": "stderr",
          "text": [
            "\r 63%|██████▎   | 109/173 [00:31<00:13,  4.87it/s]"
          ]
        },
        {
          "output_type": "stream",
          "name": "stdout",
          "text": [
            "\n",
            "0: 416x640 1 person, 1 stop sign, 160.8ms\n",
            "Speed: 4.7ms preprocess, 160.8ms inference, 1.2ms postprocess per image at shape (1, 3, 416, 640)\n"
          ]
        },
        {
          "output_type": "stream",
          "name": "stderr",
          "text": [
            "\r 64%|██████▎   | 110/173 [00:31<00:12,  4.85it/s]"
          ]
        },
        {
          "output_type": "stream",
          "name": "stdout",
          "text": [
            "\n",
            "0: 416x640 (no detections), 155.3ms\n",
            "Speed: 4.2ms preprocess, 155.3ms inference, 1.2ms postprocess per image at shape (1, 3, 416, 640)\n"
          ]
        },
        {
          "output_type": "stream",
          "name": "stderr",
          "text": [
            "\r 64%|██████▍   | 111/173 [00:31<00:12,  4.86it/s]"
          ]
        },
        {
          "output_type": "stream",
          "name": "stdout",
          "text": [
            "\n",
            "0: 416x640 (no detections), 181.5ms\n",
            "Speed: 5.3ms preprocess, 181.5ms inference, 1.1ms postprocess per image at shape (1, 3, 416, 640)\n"
          ]
        },
        {
          "output_type": "stream",
          "name": "stderr",
          "text": [
            "\r 65%|██████▍   | 112/173 [00:32<00:13,  4.67it/s]"
          ]
        },
        {
          "output_type": "stream",
          "name": "stdout",
          "text": [
            "\n",
            "0: 416x640 (no detections), 256.4ms\n",
            "Speed: 4.6ms preprocess, 256.4ms inference, 1.1ms postprocess per image at shape (1, 3, 416, 640)\n"
          ]
        },
        {
          "output_type": "stream",
          "name": "stderr",
          "text": [
            "\r 65%|██████▌   | 113/173 [00:32<00:14,  4.01it/s]"
          ]
        },
        {
          "output_type": "stream",
          "name": "stdout",
          "text": [
            "\n",
            "0: 416x640 1 stop sign, 236.6ms\n",
            "Speed: 4.5ms preprocess, 236.6ms inference, 1.5ms postprocess per image at shape (1, 3, 416, 640)\n"
          ]
        },
        {
          "output_type": "stream",
          "name": "stderr",
          "text": [
            "\r 66%|██████▌   | 114/173 [00:32<00:15,  3.78it/s]"
          ]
        },
        {
          "output_type": "stream",
          "name": "stdout",
          "text": [
            "\n",
            "0: 416x640 (no detections), 242.3ms\n",
            "Speed: 4.9ms preprocess, 242.3ms inference, 1.0ms postprocess per image at shape (1, 3, 416, 640)\n"
          ]
        },
        {
          "output_type": "stream",
          "name": "stderr",
          "text": [
            "\r 66%|██████▋   | 115/173 [00:33<00:15,  3.63it/s]"
          ]
        },
        {
          "output_type": "stream",
          "name": "stdout",
          "text": [
            "\n",
            "0: 416x640 (no detections), 248.2ms\n",
            "Speed: 7.7ms preprocess, 248.2ms inference, 1.1ms postprocess per image at shape (1, 3, 416, 640)\n"
          ]
        },
        {
          "output_type": "stream",
          "name": "stderr",
          "text": [
            "\r 67%|██████▋   | 116/173 [00:33<00:16,  3.49it/s]"
          ]
        },
        {
          "output_type": "stream",
          "name": "stdout",
          "text": [
            "\n",
            "0: 416x640 (no detections), 244.2ms\n",
            "Speed: 4.6ms preprocess, 244.2ms inference, 1.0ms postprocess per image at shape (1, 3, 416, 640)\n"
          ]
        },
        {
          "output_type": "stream",
          "name": "stderr",
          "text": [
            "\r 68%|██████▊   | 117/173 [00:33<00:16,  3.38it/s]"
          ]
        },
        {
          "output_type": "stream",
          "name": "stdout",
          "text": [
            "\n",
            "0: 416x640 (no detections), 237.9ms\n",
            "Speed: 4.5ms preprocess, 237.9ms inference, 1.4ms postprocess per image at shape (1, 3, 416, 640)\n"
          ]
        },
        {
          "output_type": "stream",
          "name": "stderr",
          "text": [
            "\r 68%|██████▊   | 118/173 [00:33<00:16,  3.38it/s]"
          ]
        },
        {
          "output_type": "stream",
          "name": "stdout",
          "text": [
            "\n",
            "0: 416x640 (no detections), 248.0ms\n",
            "Speed: 4.6ms preprocess, 248.0ms inference, 1.1ms postprocess per image at shape (1, 3, 416, 640)\n"
          ]
        },
        {
          "output_type": "stream",
          "name": "stderr",
          "text": [
            "\r 69%|██████▉   | 119/173 [00:34<00:16,  3.30it/s]"
          ]
        },
        {
          "output_type": "stream",
          "name": "stdout",
          "text": [
            "\n",
            "0: 416x640 (no detections), 260.7ms\n",
            "Speed: 4.9ms preprocess, 260.7ms inference, 3.8ms postprocess per image at shape (1, 3, 416, 640)\n"
          ]
        },
        {
          "output_type": "stream",
          "name": "stderr",
          "text": [
            "\r 69%|██████▉   | 120/173 [00:34<00:16,  3.20it/s]"
          ]
        },
        {
          "output_type": "stream",
          "name": "stdout",
          "text": [
            "\n",
            "0: 416x640 (no detections), 240.5ms\n",
            "Speed: 4.4ms preprocess, 240.5ms inference, 0.8ms postprocess per image at shape (1, 3, 416, 640)\n"
          ]
        },
        {
          "output_type": "stream",
          "name": "stderr",
          "text": [
            "\r 70%|██████▉   | 121/173 [00:34<00:15,  3.25it/s]"
          ]
        },
        {
          "output_type": "stream",
          "name": "stdout",
          "text": [
            "\n",
            "0: 416x640 (no detections), 153.1ms\n",
            "Speed: 5.3ms preprocess, 153.1ms inference, 0.8ms postprocess per image at shape (1, 3, 416, 640)\n"
          ]
        },
        {
          "output_type": "stream",
          "name": "stderr",
          "text": [
            "\r 71%|███████   | 122/173 [00:35<00:14,  3.63it/s]"
          ]
        },
        {
          "output_type": "stream",
          "name": "stdout",
          "text": [
            "\n",
            "0: 416x640 (no detections), 156.1ms\n",
            "Speed: 4.8ms preprocess, 156.1ms inference, 0.8ms postprocess per image at shape (1, 3, 416, 640)\n"
          ]
        },
        {
          "output_type": "stream",
          "name": "stderr",
          "text": [
            "\r 71%|███████   | 123/173 [00:35<00:12,  3.91it/s]"
          ]
        },
        {
          "output_type": "stream",
          "name": "stdout",
          "text": [
            "\n",
            "0: 416x640 (no detections), 165.9ms\n",
            "Speed: 4.5ms preprocess, 165.9ms inference, 0.8ms postprocess per image at shape (1, 3, 416, 640)\n"
          ]
        },
        {
          "output_type": "stream",
          "name": "stderr",
          "text": [
            "\r 72%|███████▏  | 124/173 [00:35<00:11,  4.12it/s]"
          ]
        },
        {
          "output_type": "stream",
          "name": "stdout",
          "text": [
            "\n",
            "0: 416x640 (no detections), 151.4ms\n",
            "Speed: 5.2ms preprocess, 151.4ms inference, 0.9ms postprocess per image at shape (1, 3, 416, 640)\n"
          ]
        },
        {
          "output_type": "stream",
          "name": "stderr",
          "text": [
            "\r 72%|███████▏  | 125/173 [00:35<00:11,  4.30it/s]"
          ]
        },
        {
          "output_type": "stream",
          "name": "stdout",
          "text": [
            "\n",
            "0: 416x640 (no detections), 153.7ms\n",
            "Speed: 4.8ms preprocess, 153.7ms inference, 0.9ms postprocess per image at shape (1, 3, 416, 640)\n"
          ]
        },
        {
          "output_type": "stream",
          "name": "stderr",
          "text": [
            "\r 73%|███████▎  | 126/173 [00:35<00:10,  4.47it/s]"
          ]
        },
        {
          "output_type": "stream",
          "name": "stdout",
          "text": [
            "\n",
            "0: 416x640 (no detections), 156.7ms\n",
            "Speed: 3.7ms preprocess, 156.7ms inference, 1.1ms postprocess per image at shape (1, 3, 416, 640)\n"
          ]
        },
        {
          "output_type": "stream",
          "name": "stderr",
          "text": [
            "\r 73%|███████▎  | 127/173 [00:36<00:10,  4.56it/s]"
          ]
        },
        {
          "output_type": "stream",
          "name": "stdout",
          "text": [
            "\n",
            "0: 416x640 1 car, 148.7ms\n",
            "Speed: 5.0ms preprocess, 148.7ms inference, 1.2ms postprocess per image at shape (1, 3, 416, 640)\n"
          ]
        },
        {
          "output_type": "stream",
          "name": "stderr",
          "text": [
            "\r 74%|███████▍  | 128/173 [00:36<00:09,  4.71it/s]"
          ]
        },
        {
          "output_type": "stream",
          "name": "stdout",
          "text": [
            "\n",
            "0: 416x640 1 car, 171.6ms\n",
            "Speed: 5.3ms preprocess, 171.6ms inference, 1.2ms postprocess per image at shape (1, 3, 416, 640)\n"
          ]
        },
        {
          "output_type": "stream",
          "name": "stderr",
          "text": [
            "\r 75%|███████▍  | 129/173 [00:36<00:09,  4.57it/s]"
          ]
        },
        {
          "output_type": "stream",
          "name": "stdout",
          "text": [
            "\n",
            "0: 416x640 2 cars, 146.2ms\n",
            "Speed: 5.1ms preprocess, 146.2ms inference, 1.5ms postprocess per image at shape (1, 3, 416, 640)\n"
          ]
        },
        {
          "output_type": "stream",
          "name": "stderr",
          "text": [
            "\r 75%|███████▌  | 130/173 [00:36<00:09,  4.73it/s]"
          ]
        },
        {
          "output_type": "stream",
          "name": "stdout",
          "text": [
            "\n",
            "0: 416x640 1 car, 151.2ms\n",
            "Speed: 4.8ms preprocess, 151.2ms inference, 1.2ms postprocess per image at shape (1, 3, 416, 640)\n"
          ]
        },
        {
          "output_type": "stream",
          "name": "stderr",
          "text": [
            "\r 76%|███████▌  | 131/173 [00:37<00:08,  4.78it/s]"
          ]
        },
        {
          "output_type": "stream",
          "name": "stdout",
          "text": [
            "\n",
            "0: 416x640 2 cars, 149.4ms\n",
            "Speed: 4.6ms preprocess, 149.4ms inference, 1.2ms postprocess per image at shape (1, 3, 416, 640)\n"
          ]
        },
        {
          "output_type": "stream",
          "name": "stderr",
          "text": [
            "\r 76%|███████▋  | 132/173 [00:37<00:08,  4.87it/s]"
          ]
        },
        {
          "output_type": "stream",
          "name": "stdout",
          "text": [
            "\n",
            "0: 416x640 1 car, 149.8ms\n",
            "Speed: 4.5ms preprocess, 149.8ms inference, 1.2ms postprocess per image at shape (1, 3, 416, 640)\n"
          ]
        },
        {
          "output_type": "stream",
          "name": "stderr",
          "text": [
            "\r 77%|███████▋  | 133/173 [00:37<00:08,  4.92it/s]"
          ]
        },
        {
          "output_type": "stream",
          "name": "stdout",
          "text": [
            "\n",
            "0: 416x640 1 car, 175.6ms\n",
            "Speed: 4.2ms preprocess, 175.6ms inference, 1.4ms postprocess per image at shape (1, 3, 416, 640)\n"
          ]
        },
        {
          "output_type": "stream",
          "name": "stderr",
          "text": [
            "\r 77%|███████▋  | 134/173 [00:37<00:08,  4.80it/s]"
          ]
        },
        {
          "output_type": "stream",
          "name": "stdout",
          "text": [
            "\n",
            "0: 416x640 1 car, 149.4ms\n",
            "Speed: 4.1ms preprocess, 149.4ms inference, 1.1ms postprocess per image at shape (1, 3, 416, 640)\n"
          ]
        },
        {
          "output_type": "stream",
          "name": "stderr",
          "text": [
            "\r 78%|███████▊  | 135/173 [00:37<00:07,  4.85it/s]"
          ]
        },
        {
          "output_type": "stream",
          "name": "stdout",
          "text": [
            "\n",
            "0: 416x640 1 car, 152.9ms\n",
            "Speed: 4.2ms preprocess, 152.9ms inference, 1.3ms postprocess per image at shape (1, 3, 416, 640)\n"
          ]
        },
        {
          "output_type": "stream",
          "name": "stderr",
          "text": [
            "\r 79%|███████▊  | 136/173 [00:38<00:07,  4.91it/s]"
          ]
        },
        {
          "output_type": "stream",
          "name": "stdout",
          "text": [
            "\n",
            "0: 416x640 1 car, 152.9ms\n",
            "Speed: 5.2ms preprocess, 152.9ms inference, 1.2ms postprocess per image at shape (1, 3, 416, 640)\n"
          ]
        },
        {
          "output_type": "stream",
          "name": "stderr",
          "text": [
            "\r 79%|███████▉  | 137/173 [00:38<00:07,  4.88it/s]"
          ]
        },
        {
          "output_type": "stream",
          "name": "stdout",
          "text": [
            "\n",
            "0: 416x640 (no detections), 153.1ms\n",
            "Speed: 4.8ms preprocess, 153.1ms inference, 0.8ms postprocess per image at shape (1, 3, 416, 640)\n"
          ]
        },
        {
          "output_type": "stream",
          "name": "stderr",
          "text": [
            "\r 80%|███████▉  | 138/173 [00:38<00:07,  4.93it/s]"
          ]
        },
        {
          "output_type": "stream",
          "name": "stdout",
          "text": [
            "\n",
            "0: 416x640 (no detections), 180.6ms\n",
            "Speed: 4.4ms preprocess, 180.6ms inference, 0.8ms postprocess per image at shape (1, 3, 416, 640)\n"
          ]
        },
        {
          "output_type": "stream",
          "name": "stderr",
          "text": [
            "\r 80%|████████  | 139/173 [00:38<00:07,  4.75it/s]"
          ]
        },
        {
          "output_type": "stream",
          "name": "stdout",
          "text": [
            "\n",
            "0: 416x640 (no detections), 152.9ms\n",
            "Speed: 4.9ms preprocess, 152.9ms inference, 0.9ms postprocess per image at shape (1, 3, 416, 640)\n"
          ]
        },
        {
          "output_type": "stream",
          "name": "stderr",
          "text": [
            "\r 81%|████████  | 140/173 [00:38<00:06,  4.83it/s]"
          ]
        },
        {
          "output_type": "stream",
          "name": "stdout",
          "text": [
            "\n",
            "0: 416x640 (no detections), 151.9ms\n",
            "Speed: 4.9ms preprocess, 151.9ms inference, 0.8ms postprocess per image at shape (1, 3, 416, 640)\n"
          ]
        },
        {
          "output_type": "stream",
          "name": "stderr",
          "text": [
            "\r 82%|████████▏ | 141/173 [00:39<00:06,  4.88it/s]"
          ]
        },
        {
          "output_type": "stream",
          "name": "stdout",
          "text": [
            "\n",
            "0: 416x640 (no detections), 153.0ms\n",
            "Speed: 4.7ms preprocess, 153.0ms inference, 0.8ms postprocess per image at shape (1, 3, 416, 640)\n"
          ]
        },
        {
          "output_type": "stream",
          "name": "stderr",
          "text": [
            "\r 82%|████████▏ | 142/173 [00:39<00:06,  4.92it/s]"
          ]
        },
        {
          "output_type": "stream",
          "name": "stdout",
          "text": [
            "\n",
            "0: 416x640 (no detections), 156.3ms\n",
            "Speed: 4.9ms preprocess, 156.3ms inference, 0.8ms postprocess per image at shape (1, 3, 416, 640)\n"
          ]
        },
        {
          "output_type": "stream",
          "name": "stderr",
          "text": [
            "\r 83%|████████▎ | 143/173 [00:39<00:06,  4.90it/s]"
          ]
        },
        {
          "output_type": "stream",
          "name": "stdout",
          "text": [
            "\n",
            "0: 416x640 1 stop sign, 208.3ms\n",
            "Speed: 4.8ms preprocess, 208.3ms inference, 1.2ms postprocess per image at shape (1, 3, 416, 640)\n"
          ]
        },
        {
          "output_type": "stream",
          "name": "stderr",
          "text": [
            "\r 83%|████████▎ | 144/173 [00:39<00:06,  4.57it/s]"
          ]
        },
        {
          "output_type": "stream",
          "name": "stdout",
          "text": [
            "\n",
            "0: 416x640 1 car, 2 stop signs, 152.6ms\n",
            "Speed: 4.6ms preprocess, 152.6ms inference, 1.2ms postprocess per image at shape (1, 3, 416, 640)\n"
          ]
        },
        {
          "output_type": "stream",
          "name": "stderr",
          "text": [
            "\r 84%|████████▍ | 145/173 [00:39<00:05,  4.68it/s]"
          ]
        },
        {
          "output_type": "stream",
          "name": "stdout",
          "text": [
            "\n",
            "0: 416x640 1 person, 2 cars, 1 stop sign, 146.1ms\n",
            "Speed: 5.5ms preprocess, 146.1ms inference, 1.1ms postprocess per image at shape (1, 3, 416, 640)\n"
          ]
        },
        {
          "output_type": "stream",
          "name": "stderr",
          "text": [
            "\r 84%|████████▍ | 146/173 [00:40<00:05,  4.81it/s]"
          ]
        },
        {
          "output_type": "stream",
          "name": "stdout",
          "text": [
            "\n",
            "0: 416x640 1 person, 1 car, 1 stop sign, 150.0ms\n",
            "Speed: 4.4ms preprocess, 150.0ms inference, 1.2ms postprocess per image at shape (1, 3, 416, 640)\n"
          ]
        },
        {
          "output_type": "stream",
          "name": "stderr",
          "text": [
            "\r 85%|████████▍ | 147/173 [00:40<00:05,  4.85it/s]"
          ]
        },
        {
          "output_type": "stream",
          "name": "stdout",
          "text": [
            "\n",
            "0: 416x640 1 person, 1 car, 1 stop sign, 149.3ms\n",
            "Speed: 5.3ms preprocess, 149.3ms inference, 1.2ms postprocess per image at shape (1, 3, 416, 640)\n"
          ]
        },
        {
          "output_type": "stream",
          "name": "stderr",
          "text": [
            "\r 86%|████████▌ | 148/173 [00:40<00:05,  4.92it/s]"
          ]
        },
        {
          "output_type": "stream",
          "name": "stdout",
          "text": [
            "\n",
            "0: 416x640 1 person, 1 car, 1 stop sign, 174.6ms\n",
            "Speed: 5.2ms preprocess, 174.6ms inference, 1.2ms postprocess per image at shape (1, 3, 416, 640)\n"
          ]
        },
        {
          "output_type": "stream",
          "name": "stderr",
          "text": [
            "\r 86%|████████▌ | 149/173 [00:40<00:05,  4.72it/s]"
          ]
        },
        {
          "output_type": "stream",
          "name": "stdout",
          "text": [
            "\n",
            "0: 416x640 1 person, 2 cars, 1 stop sign, 173.0ms\n",
            "Speed: 4.3ms preprocess, 173.0ms inference, 1.2ms postprocess per image at shape (1, 3, 416, 640)\n"
          ]
        },
        {
          "output_type": "stream",
          "name": "stderr",
          "text": [
            "\r 87%|████████▋ | 150/173 [00:40<00:04,  4.68it/s]"
          ]
        },
        {
          "output_type": "stream",
          "name": "stdout",
          "text": [
            "\n",
            "0: 416x640 1 car, 1 stop sign, 155.2ms\n",
            "Speed: 4.8ms preprocess, 155.2ms inference, 1.3ms postprocess per image at shape (1, 3, 416, 640)\n"
          ]
        },
        {
          "output_type": "stream",
          "name": "stderr",
          "text": [
            "\r 87%|████████▋ | 151/173 [00:41<00:04,  4.74it/s]"
          ]
        },
        {
          "output_type": "stream",
          "name": "stdout",
          "text": [
            "\n",
            "0: 416x640 3 cars, 1 traffic light, 151.4ms\n",
            "Speed: 4.4ms preprocess, 151.4ms inference, 1.2ms postprocess per image at shape (1, 3, 416, 640)\n"
          ]
        },
        {
          "output_type": "stream",
          "name": "stderr",
          "text": [
            "\r 88%|████████▊ | 152/173 [00:41<00:04,  4.83it/s]"
          ]
        },
        {
          "output_type": "stream",
          "name": "stdout",
          "text": [
            "\n",
            "0: 416x640 1 person, 1 car, 1 motorcycle, 1 truck, 157.2ms\n",
            "Speed: 4.6ms preprocess, 157.2ms inference, 1.5ms postprocess per image at shape (1, 3, 416, 640)\n"
          ]
        },
        {
          "output_type": "stream",
          "name": "stderr",
          "text": [
            "\r 88%|████████▊ | 153/173 [00:41<00:04,  4.81it/s]"
          ]
        },
        {
          "output_type": "stream",
          "name": "stdout",
          "text": [
            "\n",
            "0: 416x640 1 car, 168.0ms\n",
            "Speed: 5.0ms preprocess, 168.0ms inference, 1.3ms postprocess per image at shape (1, 3, 416, 640)\n"
          ]
        },
        {
          "output_type": "stream",
          "name": "stderr",
          "text": [
            "\r 89%|████████▉ | 154/173 [00:41<00:04,  4.72it/s]"
          ]
        },
        {
          "output_type": "stream",
          "name": "stdout",
          "text": [
            "\n",
            "0: 416x640 1 car, 1 bus, 156.3ms\n",
            "Speed: 5.1ms preprocess, 156.3ms inference, 1.2ms postprocess per image at shape (1, 3, 416, 640)\n"
          ]
        },
        {
          "output_type": "stream",
          "name": "stderr",
          "text": [
            "\r 90%|████████▉ | 155/173 [00:42<00:03,  4.72it/s]"
          ]
        },
        {
          "output_type": "stream",
          "name": "stdout",
          "text": [
            "\n",
            "0: 416x640 1 fire hydrant, 152.7ms\n",
            "Speed: 4.4ms preprocess, 152.7ms inference, 1.4ms postprocess per image at shape (1, 3, 416, 640)\n"
          ]
        },
        {
          "output_type": "stream",
          "name": "stderr",
          "text": [
            "\r 90%|█████████ | 156/173 [00:42<00:03,  4.77it/s]"
          ]
        },
        {
          "output_type": "stream",
          "name": "stdout",
          "text": [
            "\n",
            "0: 416x640 2 cars, 150.7ms\n",
            "Speed: 4.6ms preprocess, 150.7ms inference, 1.3ms postprocess per image at shape (1, 3, 416, 640)\n"
          ]
        },
        {
          "output_type": "stream",
          "name": "stderr",
          "text": [
            "\r 91%|█████████ | 157/173 [00:42<00:03,  4.83it/s]"
          ]
        },
        {
          "output_type": "stream",
          "name": "stdout",
          "text": [
            "\n",
            "0: 416x640 1 fire hydrant, 165.5ms\n",
            "Speed: 4.3ms preprocess, 165.5ms inference, 3.7ms postprocess per image at shape (1, 3, 416, 640)\n"
          ]
        },
        {
          "output_type": "stream",
          "name": "stderr",
          "text": [
            "\r 91%|█████████▏| 158/173 [00:42<00:03,  4.76it/s]"
          ]
        },
        {
          "output_type": "stream",
          "name": "stdout",
          "text": [
            "\n",
            "0: 416x640 3 cars, 1 stop sign, 168.1ms\n",
            "Speed: 4.2ms preprocess, 168.1ms inference, 1.3ms postprocess per image at shape (1, 3, 416, 640)\n"
          ]
        },
        {
          "output_type": "stream",
          "name": "stderr",
          "text": [
            "\r 92%|█████████▏| 159/173 [00:42<00:03,  4.63it/s]"
          ]
        },
        {
          "output_type": "stream",
          "name": "stdout",
          "text": [
            "\n",
            "0: 416x640 2 cars, 156.3ms\n",
            "Speed: 4.3ms preprocess, 156.3ms inference, 1.2ms postprocess per image at shape (1, 3, 416, 640)\n"
          ]
        },
        {
          "output_type": "stream",
          "name": "stderr",
          "text": [
            "\r 92%|█████████▏| 160/173 [00:43<00:02,  4.70it/s]"
          ]
        },
        {
          "output_type": "stream",
          "name": "stdout",
          "text": [
            "\n",
            "0: 416x640 1 car, 160.3ms\n",
            "Speed: 4.6ms preprocess, 160.3ms inference, 1.2ms postprocess per image at shape (1, 3, 416, 640)\n"
          ]
        },
        {
          "output_type": "stream",
          "name": "stderr",
          "text": [
            "\r 93%|█████████▎| 161/173 [00:43<00:02,  4.71it/s]"
          ]
        },
        {
          "output_type": "stream",
          "name": "stdout",
          "text": [
            "\n",
            "0: 416x640 2 cars, 148.8ms\n",
            "Speed: 5.8ms preprocess, 148.8ms inference, 1.3ms postprocess per image at shape (1, 3, 416, 640)\n"
          ]
        },
        {
          "output_type": "stream",
          "name": "stderr",
          "text": [
            "\r 94%|█████████▎| 162/173 [00:43<00:02,  4.79it/s]"
          ]
        },
        {
          "output_type": "stream",
          "name": "stdout",
          "text": [
            "\n",
            "0: 416x640 2 cars, 171.2ms\n",
            "Speed: 5.3ms preprocess, 171.2ms inference, 1.1ms postprocess per image at shape (1, 3, 416, 640)\n"
          ]
        },
        {
          "output_type": "stream",
          "name": "stderr",
          "text": [
            "\r 94%|█████████▍| 163/173 [00:43<00:02,  4.69it/s]"
          ]
        },
        {
          "output_type": "stream",
          "name": "stdout",
          "text": [
            "\n",
            "0: 416x640 5 cars, 155.5ms\n",
            "Speed: 4.4ms preprocess, 155.5ms inference, 1.2ms postprocess per image at shape (1, 3, 416, 640)\n"
          ]
        },
        {
          "output_type": "stream",
          "name": "stderr",
          "text": [
            "\r 95%|█████████▍| 164/173 [00:43<00:01,  4.68it/s]"
          ]
        },
        {
          "output_type": "stream",
          "name": "stdout",
          "text": [
            "\n",
            "0: 416x640 1 person, 5 cars, 156.4ms\n",
            "Speed: 4.8ms preprocess, 156.4ms inference, 1.2ms postprocess per image at shape (1, 3, 416, 640)\n"
          ]
        },
        {
          "output_type": "stream",
          "name": "stderr",
          "text": [
            "\r 95%|█████████▌| 165/173 [00:44<00:01,  4.69it/s]"
          ]
        },
        {
          "output_type": "stream",
          "name": "stdout",
          "text": [
            "\n",
            "0: 416x640 2 persons, 4 cars, 155.6ms\n",
            "Speed: 5.6ms preprocess, 155.6ms inference, 1.2ms postprocess per image at shape (1, 3, 416, 640)\n"
          ]
        },
        {
          "output_type": "stream",
          "name": "stderr",
          "text": [
            "\r 96%|█████████▌| 166/173 [00:44<00:01,  4.77it/s]"
          ]
        },
        {
          "output_type": "stream",
          "name": "stdout",
          "text": [
            "\n",
            "0: 416x640 1 person, 3 cars, 151.6ms\n",
            "Speed: 6.5ms preprocess, 151.6ms inference, 1.3ms postprocess per image at shape (1, 3, 416, 640)\n"
          ]
        },
        {
          "output_type": "stream",
          "name": "stderr",
          "text": [
            "\r 97%|█████████▋| 167/173 [00:44<00:01,  4.80it/s]"
          ]
        },
        {
          "output_type": "stream",
          "name": "stdout",
          "text": [
            "\n",
            "0: 416x640 1 person, 3 cars, 161.5ms\n",
            "Speed: 6.2ms preprocess, 161.5ms inference, 1.3ms postprocess per image at shape (1, 3, 416, 640)\n"
          ]
        },
        {
          "output_type": "stream",
          "name": "stderr",
          "text": [
            "\r 97%|█████████▋| 168/173 [00:44<00:01,  4.79it/s]"
          ]
        },
        {
          "output_type": "stream",
          "name": "stdout",
          "text": [
            "\n",
            "0: 416x640 2 cars, 170.2ms\n",
            "Speed: 6.5ms preprocess, 170.2ms inference, 1.5ms postprocess per image at shape (1, 3, 416, 640)\n"
          ]
        },
        {
          "output_type": "stream",
          "name": "stderr",
          "text": [
            "\r 98%|█████████▊| 169/173 [00:44<00:00,  4.58it/s]"
          ]
        },
        {
          "output_type": "stream",
          "name": "stdout",
          "text": [
            "\n",
            "0: 416x640 2 cars, 237.8ms\n",
            "Speed: 4.6ms preprocess, 237.8ms inference, 1.7ms postprocess per image at shape (1, 3, 416, 640)\n"
          ]
        },
        {
          "output_type": "stream",
          "name": "stderr",
          "text": [
            "\r 98%|█████████▊| 170/173 [00:45<00:00,  4.09it/s]"
          ]
        },
        {
          "output_type": "stream",
          "name": "stdout",
          "text": [
            "\n",
            "0: 416x640 5 cars, 236.8ms\n",
            "Speed: 6.0ms preprocess, 236.8ms inference, 1.7ms postprocess per image at shape (1, 3, 416, 640)\n"
          ]
        },
        {
          "output_type": "stream",
          "name": "stderr",
          "text": [
            "\r 99%|█████████▉| 171/173 [00:45<00:00,  3.77it/s]"
          ]
        },
        {
          "output_type": "stream",
          "name": "stdout",
          "text": [
            "\n",
            "0: 416x640 3 cars, 246.2ms\n",
            "Speed: 4.8ms preprocess, 246.2ms inference, 1.4ms postprocess per image at shape (1, 3, 416, 640)\n"
          ]
        },
        {
          "output_type": "stream",
          "name": "stderr",
          "text": [
            "\r 99%|█████████▉| 172/173 [00:45<00:00,  3.55it/s]"
          ]
        },
        {
          "output_type": "stream",
          "name": "stdout",
          "text": [
            "\n",
            "0: 416x640 1 car, 238.4ms\n",
            "Speed: 4.7ms preprocess, 238.4ms inference, 1.4ms postprocess per image at shape (1, 3, 416, 640)\n"
          ]
        },
        {
          "output_type": "stream",
          "name": "stderr",
          "text": [
            "100%|██████████| 173/173 [00:46<00:00,  3.74it/s]"
          ]
        },
        {
          "output_type": "stream",
          "name": "stdout",
          "text": [
            "Detection completed! Results saved to project_data/detection_results\n"
          ]
        },
        {
          "output_type": "stream",
          "name": "stderr",
          "text": [
            "\n"
          ]
        }
      ]
    },
    {
      "cell_type": "markdown",
      "source": [
        "#Modal results Visualization"
      ],
      "metadata": {
        "id": "mOwhblf1WnXG"
      }
    },
    {
      "cell_type": "code",
      "source": [
        "def create_video_from_frames(frames_dir, output_video_path, fps=30):\n",
        "    \"\"\"\n",
        "    Create a video from processed frames\n",
        "\n",
        "    Args:\n",
        "        frames_dir: Directory containing the processed frames\n",
        "        output_video_path: Path to save the output video\n",
        "        fps: Frames per second for the output video\n",
        "    \"\"\"\n",
        "    frame_files = sorted([f for f in os.listdir(frames_dir) if f.endswith(('.jpg', '.png'))])\n",
        "\n",
        "    if not frame_files:\n",
        "        print(\"No frames found in the directory\")\n",
        "        return\n",
        "\n",
        "    # Read the first frame to get dimensions\n",
        "    first_frame = cv2.imread(os.path.join(frames_dir, frame_files[0]))\n",
        "    height, width, _ = first_frame.shape\n",
        "\n",
        "    # Define the codec and create VideoWriter object\n",
        "    fourcc = cv2.VideoWriter_fourcc(*'mp4v')  # Use 'XVID' for .avi format\n",
        "    out = cv2.VideoWriter(output_video_path, fourcc, fps, (width, height))\n",
        "\n",
        "    print(f\"Creating video from {len(frame_files)} frames...\")\n",
        "\n",
        "    # Add each frame to the video\n",
        "    for frame_file in tqdm(frame_files):\n",
        "        frame_path = os.path.join(frames_dir, frame_file)\n",
        "        frame = cv2.imread(frame_path)\n",
        "        out.write(frame)\n",
        "\n",
        "    # Release the VideoWriter\n",
        "    out.release()\n",
        "    print(f\"Video created and saved to {output_video_path}\")\n",
        "\n",
        "# Create a video from the detection results\n",
        "detection_output_dir = \"project_data/detection_results\"\n",
        "output_video_path = \"project_data/detection_results_video.mp4\"\n",
        "create_video_from_frames(detection_output_dir, output_video_path)\n"
      ],
      "metadata": {
        "colab": {
          "base_uri": "https://localhost:8080/"
        },
        "id": "e_8gUllOV3R6",
        "outputId": "c526b5ae-a0a0-485b-956f-f64361a84d09"
      },
      "execution_count": null,
      "outputs": [
        {
          "output_type": "stream",
          "name": "stdout",
          "text": [
            "Creating video from 173 frames...\n"
          ]
        },
        {
          "output_type": "stream",
          "name": "stderr",
          "text": [
            "100%|██████████| 173/173 [00:09<00:00, 18.37it/s]"
          ]
        },
        {
          "output_type": "stream",
          "name": "stdout",
          "text": [
            "Video created and saved to project_data/detection_results_video.mp4\n"
          ]
        },
        {
          "output_type": "stream",
          "name": "stderr",
          "text": [
            "\n"
          ]
        }
      ]
    },
    {
      "cell_type": "markdown",
      "source": [
        "\n",
        "<iframe src=\"https://drive.google.com/file/d/SOME_LONG_ID/preview\" width=\"640\" height=\"480\" allow=\"autoplay\" allowfullscreen frameborder=\"0\"></iframe>\n"
      ],
      "metadata": {
        "id": "wwYlynO7Yxf7"
      }
    },
    {
      "cell_type": "code",
      "source": [],
      "metadata": {
        "id": "PfNACqStW3Kt"
      },
      "execution_count": null,
      "outputs": []
    }
  ]
}